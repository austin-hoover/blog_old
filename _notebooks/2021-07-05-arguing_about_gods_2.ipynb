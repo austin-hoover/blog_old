{
 "cells": [
  {
   "cell_type": "markdown",
   "id": "4fcadf2e-6d80-4c74-86b9-c2e7ad081824",
   "metadata": {},
   "source": [
    "# Arguing About Gods (part 2)\n",
    "> Ontological Arguments\n",
    "- comments: true\n",
    "- toc: true\n",
    "- badges: false\n",
    "- image: images/island2.jpg\n",
    "- categories: [book study, philosophy, theism]\n",
    "- author: Austin Hoover"
   ]
  },
  {
   "cell_type": "markdown",
   "id": "38eb7455-8461-406a-9b9c-196b0bc7a93f",
   "metadata": {},
   "source": [
    "These are my notes on chapter 2 of Oppy’s *Arguing About Gods*. This chapter is about ontological arguments — arguments that seek to demonstrate the existence of God by appealing to reason alone. The first and most famous ontological argument for the existence of God was presented by Anselm in 1078 in his work, [*Proslogion*]( https://sourcebooks.fordham.edu/basis/anselm-proslogium.asp)  (translated: *Discourse on the Existence of God*). Since then, many different philosophers have addressed Anselm’s argument, either attacking it, defending it, or reformulating it. This will be a short post; whether ontological arguments succeed is not very important to me."
   ]
  },
  {
   "cell_type": "markdown",
   "id": "4fd05f2e-2c7e-4d39-abf3-6019e3689898",
   "metadata": {},
   "source": [
    "## Anselm’s argument"
   ]
  },
  {
   "cell_type": "markdown",
   "id": "197e35c4-e82d-4ce4-ba5a-f5fb3978d6d9",
   "metadata": {},
   "source": [
    "Here's the argument:\n",
    "1. There is, in the understanding at least, a being than which no greater being can be conceived. \n",
    "2. If it is even in the understanding alone, it can be thought to be in reality as well.\n",
    "3. Which would be greater.\n",
    "4. (Therefore) There exists, both in the understanding and in reality, a being than which no greater being can be thought. "
   ]
  },
  {
   "cell_type": "markdown",
   "id": "56048b86-3a05-4ae6-ba47-e22703b2557e",
   "metadata": {},
   "source": [
    "One assumption is that an object's greatness can depend on whether it exists or not. To me, it doesn’t make sense to compare the greatness of an existing thing and a non-existing thing. For example, let’s say an unwritten book $B$ exists only in my understanding. Maybe the greatness of a book is a function of the words written on its pages, its length, its binding, etc. Now consider $B’$, the physical realization of $B$. Is $B’ > B$? I think not; when I thought of $B$, I thought of all the properties it would have if it were to exist."
   ]
  },
  {
   "cell_type": "markdown",
   "id": "6ca00ceb-22db-4d64-b6fc-73c56c5440ed",
   "metadata": {},
   "source": [
    "One might also take issue with (1), claiming that infinity is not an understandable concept, at least not in the way Anselm intends. (I’m not sure what I think about that.) But the most obvious problem, as noted by Oppy, is that we should be able to entertain the possibility of a thing without being committed to the existence of that thing. It appears we’ve presented a version of God in which, by the very definition of God, God exists. And that’s not very helpful in determining whether God exists."
   ]
  },
  {
   "cell_type": "markdown",
   "id": "43dc20cf-3d79-45b7-94e0-1af0c43cfac9",
   "metadata": {},
   "source": [
    "Anselm’s argument is still philosophically interesting, though. Consider the following parodies:"
   ]
  },
  {
   "cell_type": "markdown",
   "id": "0cc863ae-d168-46c2-9d22-ccb047ad3c3d",
   "metadata": {},
   "source": [
    "**Gaunilo’s Parody (The Perfect Island)**\n",
    "1.\tThere is, in the understanding at least, an island than which no greater island can be thought.\n",
    "2.\tIf it is even in the understanding alone, it can be thought to be in reality as well.\n",
    "3.\tWhich would be greater.\n",
    "4.\t(Therefore) There exists, both in the understanding and in reality, an island than which no greater island can be thought.\n",
    "\n",
    "**The Devil Corollary**\n",
    "1.\tThere is, in the understanding at least, a being than which no worse being can be thought.\n",
    "2.\tIf it is even in the understanding alone, it can be thought to be in reality as well.\n",
    "3.\tWhich would be worse.\n",
    "4.\t(Therefore) There exists, both in the understanding and in reality, a being than which no worse being can be thought.\n",
    "\n",
    "**The No-Devil Corollary**\n",
    "1.\tThere is, in the understanding at least, a being than which no worse being can be thought.\n",
    "2.\tIf it exists in the understanding and in reality, it can be thought to exist in the understanding alone.\n",
    "3.\tWhich would be still worse.\n",
    "4.\t(Therefore) There does not exist in reality a being than which no worse being can be thought.\n",
    "\n",
    "**The Extreme No-Devil Corollary**\n",
    "1.\tSuppose there is, in the understanding at least, a being than which no worse being can be thought.\n",
    "2.\tIf it exists in the understanding, then it is possible that it not exist in the understanding.\n",
    "3.\tWhich would be still worse.\n",
    "4.\t(Therefore) There does not exist in the understanding a being than which no worse being can be thought."
   ]
  },
  {
   "cell_type": "markdown",
   "id": "145bdc3b-a7b1-40a4-a393-b7b8a7d0768b",
   "metadata": {},
   "source": [
    "The most well-known is the Perfect Island parody. There is a difficult-to-read discussion in the book about the validity/non-validity and logical structure of each parody, and about the relationships between the parodies and Anselm’s argument; for example, could there be such a thing as a maximally great island in the same way that there could be a maximally great being? I won’t summarize that discussion here; I just wanted to mention the parodies because they’re fun to think about. "
   ]
  },
  {
   "cell_type": "markdown",
   "id": "27bce964-5be2-49f4-ba5f-a93f635b75fd",
   "metadata": {},
   "source": [
    "## The modal ontological argument"
   ]
  },
  {
   "cell_type": "markdown",
   "id": "3a41a5b5-b76b-4f20-9ed9-37cfec2ab02e",
   "metadata": {},
   "source": [
    "There’s a more recent ontological argument for the existence of God that is much stronger at first glance. First, some vocabulary. A possible world is a way things could be. In other words, a possible world is the conjunction of a bunch of propositions: \n",
    "($p_1$ & $p_2$ & $\\dots$). For instance, (“dogs bark” & “cats meow”) is true in one possible world, and (“dogs meow” & “cats bark”) is true in a different possible world. This notion of possible worlds is just a useful tool to talk about possibilities — if $p$ is *contingently* true, then $p$ is true in some, but not all, possible worlds; if $p$ is *necessarily* true, then *p* is true in all possible worlds; if $p$ is *possibly* true, then $p$ is true in at least one possible world. The modal ontological argument attempts to use these ideas, along with the definition of God as a necessary being, to show that God exists:"
   ]
  },
  {
   "cell_type": "markdown",
   "id": "d19d54a3-840f-4208-be19-6ec3a0dd0401",
   "metadata": {},
   "source": [
    "1. If God exists, then God exists in all possible worlds. (God would exist necessarily.)\n",
    "2.\tGod exists in some possible world. (It’s possible that God exists.)\n",
    "3.\tIf God exists in some possible world, then God exists in all possible worlds.\n",
    "4.\tIf God exists in all possible worlds, then God exists in the actual world.\n",
    "5.\tTherefore, God exists."
   ]
  },
  {
   "cell_type": "markdown",
   "id": "af6077d9-6721-4a75-8ca8-aef8fbde32c9",
   "metadata": {},
   "source": [
    "Premise (1) is just a definition of necessary existence, and (3) follows from the idea that “possibly necessary” is the same as “necessary”. There are questions about what it means for a person to accept (2). If I say, “I could be wrong, but I don’t think God exists…” am I granting that there’s a possible world in which God exists? I don’t think so. Rather, to accept (2), I need to grant the metaphysical possibility of the existence of God. So, perhaps the argument doesn’t do much work: if I accept (2), then I likely already think that God exists in the actual world! Nonetheless, I didn’t see any obvious problem with the argument on the first pass. The issue is the following parallel argument:\n",
    "\n",
    "1.\tIf God exists, then God exists in all possible worlds. (God would exist necessarily.)\n",
    "2.\tGod exists in some, but not all possible worlds. (It’s possible that God does not exist.)\n",
    "3.\tIf God exists in some, but not all, possible worlds, then God exists in no possible worlds.\n",
    "4.\tIf God exists in no possible worlds, then God does not exist in the actual world.\n",
    "5.\tTherefore, God does not exist.\n",
    "\n",
    "I’m not aware of a way to break this symmetry."
   ]
  },
  {
   "cell_type": "markdown",
   "id": "406d51bd-1558-4c51-a303-f23ef656f3d8",
   "metadata": {},
   "source": [
    "## Other arguments\n",
    "There are a couple of ontological arguments presented by Oppy that I had never heard of. One is the Mereological Ontological Argument, which argues that there is a unique thing of which everything is a part, and then calls this unique thing God. Although it seems to be a fine argument, the resulting being is just equivalent to the universe, and hence doesn’t fit very well with traditional monotheistic God. Another argument is from [Kurt Gödel]( https://en.wikipedia.org/wiki/Kurt_Gödel). This argument is logically valid, but I wasn’t sure of exactly what was meant by a few of the axioms; therefore, I don’t have many thoughts on this argument at the moment.\n"
   ]
  },
  {
   "cell_type": "markdown",
   "id": "c8489b07-5954-4a5d-863d-ad74a4200c1b",
   "metadata": {},
   "source": [
    "## Conclusion\n",
    "Skimming through the *Proslogion*, it’s clear that it’s not a philosophical journal article; rather, it’s a meditation at some points and a prayer at others. The meditations are mostly about how the various properties of God — such as omnipotence — could be realized. At the very least, Anselm’s ontological argument makes us think about the greatness of God and whether this greatness could even be conceived by us. And this seems to fit well with the rest of his work, even if it’s not a convincing argument for the existence of God. "
   ]
  }
 ],
 "metadata": {
  "kernelspec": {
   "display_name": "Python 3",
   "language": "python",
   "name": "python3"
  },
  "language_info": {
   "codemirror_mode": {
    "name": "ipython",
    "version": 3
   },
   "file_extension": ".py",
   "mimetype": "text/x-python",
   "name": "python",
   "nbconvert_exporter": "python",
   "pygments_lexer": "ipython3",
   "version": "3.8.10"
  }
 },
 "nbformat": 4,
 "nbformat_minor": 5
}
