{
 "cells": [
  {
   "cell_type": "markdown",
   "metadata": {},
   "source": [
    "# Painting a particle beam\n",
    "> How intense proton beams are created in the SNS.\n",
    "- author: Austin Hoover\n",
    "- toc: true \n",
    "- badges: false\n",
    "- comments: true\n",
    "- categories: [accelerators, space charge]\n",
    "- image: images/target.png"
   ]
  },
  {
   "cell_type": "markdown",
   "metadata": {},
   "source": [
    "This post explains an imporant step in the creation of intense proton beams in the Spallation Neutron Source (SNS). The method is often called \"phase space painting\" or simply \"painting\", hence the title. "
   ]
  },
  {
   "cell_type": "markdown",
   "metadata": {},
   "source": [
    "## A quick tour of the SNS"
   ]
  },
  {
   "cell_type": "markdown",
   "metadata": {},
   "source": [
    "There is a great scene in the otherwise disappointing movie *Iron Man 2* in which Tony Stark builds a particle accelerator in his house.\n",
    "\n",
    "> youtube: https://youtu.be/y0brSA1cyzw\n",
    "<br>\n",
    "\n",
    "The movie makes it look like pretty complicated process, but modern large-scale accelerators are immensely more complicated than the one Stark builds. In fact, I'm actually quite amazed that such machines have been built *and work as expected*. One example is the SNS (overhead diagram below)."
   ]
  },
  {
   "cell_type": "markdown",
   "metadata": {},
   "source": [
    "<img src=images_2021-05-27/sns.png width=100%>"
   ]
  },
  {
   "cell_type": "markdown",
   "metadata": {},
   "source": [
    "The goal of the SNS is to produce extremely bright, pulsed neutron beams for neutron scattering experiments. These neutrons are produced through the process of [spallation](https://inis.iaea.org/collection/NCLCollectionStore/_Public/23/015/23015552.pdf) by colliding a proton beam with a Mercury target. The power of the proton beam must be as high as possible to maximize the brightness of the neutron beam, and creating such a high-power beam is a multi-step process; particles must travel all the way from the ion source on the far left to the target on the far right, passing though many different sections on their journey. We're first going to mention the basic function of each of these sections, and then we're going to look in more detail at the relatively small but extremely important *injection region* of the machine. This is the point where the HEBT meets the accumulator ring in the above diagram."
   ]
  },
  {
   "cell_type": "markdown",
   "metadata": {},
   "source": [
    "### Ion source, front end, and linac"
   ]
  },
  {
   "cell_type": "markdown",
   "metadata": {},
   "source": [
    "The beam originates in the ion source. As explained later, the beam is not actually made of protons at this point, but is instead made of H$^-$ ions (proton + two electrons). The ion source consists of a vacuum chamber filled with gas, and an oscillating electric field which ionizes the gas to form a glowing, pink plasma. The H$^-$ particles are then extracted from the plasma; I asked one of the researchers at SNS (who doesn't work on the ion source) how exactly these ions are extracted, and they said it's \"black magic\", so I guess it's not straightforward. "
   ]
  },
  {
   "cell_type": "markdown",
   "metadata": {},
   "source": [
    "<img src=images_2021-05-27/ion_source.png width=500>\n",
    "<figcaption>Diagram of the SNS ion source. From {%cite Henderson2014%}.</figcaption>"
   ]
  },
  {
   "cell_type": "markdown",
   "metadata": {},
   "source": [
    "The H$^-$ beam is then accelerated to around 2.5 MeV, focused, and \"chopped\" into 1000 *minipulses*. Each minipulse is about 700 nanoseconds long, and they're separated by a gap of about 300 nanoseconds. The dynamics in this region are greatly affected by space charge, and it's hard to know exactly what the beam looks like when it exits the ion source. The SNS has built an exact replica of this front end called the Beam Test Facility (BTF) which is currently being used to better understand this section of the machine {%cite Cathey2018%}.\n",
    "\n",
    "Each minipulse is now ready to be accelerated. The next section of the machine is called the linac (linear accelerator), a long, straight section whose purpose is to accelerate the minipulses up to 1 GeV (around 90% of the speed of light) while maintaining an acceptable beam size. This is done using a series of normal-conducting and superconducting radio-frequency cavities. There is a lot to talk about in the linac, but I'll stop here since I don't have much knowledge of this area of the machine (yet)."
   ]
  },
  {
   "cell_type": "markdown",
   "metadata": {},
   "source": [
    "### HEBT, injection region, and accumulator ring"
   ]
  },
  {
   "cell_type": "markdown",
   "metadata": {},
   "source": [
    "The high-energy beam transport (HEBT, pronounced \"hebbet\") guides the fully accelerated minipulse from the linac to the left edge of the accumulator ring. At this point, all the ions in the minipulse are converted to protons and *injected* into the accumulator ring (more on this in the next section). The minpulse takes 1 microsecond to travel around the ring, at which point a second minipulse is injected and the circulating beam doubles in intensity. This repeats 1000 times over the course of one millisecond until the final beam, called a *pulse*, contains around $1.5 \\times 10^{14}$ protons. That seems like a lot until you consider that Avagadros number is one billion times larger! 60 of these pulses contains about the same energy as a stick of dynamite."
   ]
  },
  {
   "cell_type": "markdown",
   "metadata": {},
   "source": [
    "### RTBT and target"
   ]
  },
  {
   "cell_type": "markdown",
   "metadata": {},
   "source": [
    "Finally, the entire pulse is extracted from the ring and travels down the ring-target-beam-transport (RTBT) in which it is directed to the Mercury target, producing neutrons. These neutrons are then cooled and transported to various instrumental halls for use in neutron scattering experiments."
   ]
  },
  {
   "cell_type": "markdown",
   "metadata": {},
   "source": [
    "![](images_2021-05-27/target.png \"Protons (yellow) bombard the Mercury target to produce neutrons (blue). Credit: Jill Hemman.\")"
   ]
  },
  {
   "cell_type": "markdown",
   "metadata": {},
   "source": [
    "## Injection"
   ]
  },
  {
   "cell_type": "markdown",
   "metadata": {},
   "source": [
    "Now we're going to discuss the injection region in more detail (see image below). Somehow, all the negatively charged ions need to be converted to positively charge protons, and the beam from the linac needs to merge with the circulating beam in the ring without derailing its trajectory; it's as if the ions were trying to merge onto a busy highway. The specific method used at SNS is *charge exchange* injection, which we discuss first. We'll then move on to discuss *phase space painting*, which is used to mitigate the effects of space charge in intense beams. "
   ]
  },
  {
   "cell_type": "markdown",
   "metadata": {},
   "source": [
    "<img src=images_2021-05-27/injection_region4.png width=300>"
   ]
  },
  {
   "cell_type": "markdown",
   "metadata": {},
   "source": [
    "### H$^-$ charge exchange"
   ]
  },
  {
   "cell_type": "markdown",
   "metadata": {},
   "source": [
    "Consider two oppositely charged beams which have the same kinetic energy but opposite charges. Also assume that we're dealing with point particles which do not interact with each other and have no transverse velocity. If these beams are sent thought a dipole magnet, their paths will be bent in opposite directions with the same radius of curvature. If they additionally have opposite angles of incidence, there will be a point in the dipole at which both beams are moving parallel to each other. Now imagine that, at this very instance, the charge of all the particles in one of the beams changes sign. The two beams would then be identical and would continue along the same trajectory, although there may be an offset. It's possible to also choose the horizontal and vertical positions of the two beams such that they converge and travel along identical paths."
   ]
  },
  {
   "cell_type": "markdown",
   "metadata": {},
   "source": [
    "<img src=images_2021-05-27/bend.png width=400>\n",
    "<figcaption>Oppositely charged particles are bent in different directions in a dipole magnetic field.</figcaption>"
   ]
  },
  {
   "cell_type": "markdown",
   "metadata": {},
   "source": [
    "The idea is to do this with the two beams in the SNS: the negatively charged H$^-$ beam the linac and the positively charged proton beam which is circulating in the ring. Russian scientists developed a method to do this in the 1960's using a thin foil which *strips* the two electrons from the Hydrogen ions but leaves the protons. The foil properties need to be chosen carefully. It needs to be the right material and thick enough to have a high stripping efficiency (number of ions successfully stripped divided by total number of ions), but not so thick that most of the protons are scattered. It also needs to be able to survive high numbers of foil hits without being destroyed. Thus, the choice of foil parameters requires a knowledge of materials science. The SNS uses diamond foils as in the following images."
   ]
  },
  {
   "cell_type": "markdown",
   "metadata": {},
   "source": [
    "![](images_2021-05-27/foil.png \"Stripper foil used for charge-exchange injection at the SNS.\")"
   ]
  },
  {
   "cell_type": "markdown",
   "metadata": {},
   "source": [
    "### Dealing with extra particles"
   ]
  },
  {
   "cell_type": "markdown",
   "metadata": {},
   "source": [
    "Some of the H$^-$ hold on to their electrons as they pass through the foil, and some only lose one electron, becoming H$^0$. To deal with these particles, the foil is placed in a dipole field. Because many of the H$^0$ particles are in excited states, it is likely that their electron will be stripped by the magnetic field soon after the foil; this is known as *Lorentz stripping*. So a lot of these will become protons and join the circulating beam, just a bit late to the party. The remaining non-protons continue away from the ring and encounter *another foil* which removes the electrons so that they can be guided to a beam dump. There is also the need to catch the stripped electrons, which can have significant kinetic energies, but I won't discuss that here."
   ]
  },
  {
   "cell_type": "markdown",
   "metadata": {},
   "source": [
    "### Is Liouville's theorem violated?"
   ]
  },
  {
   "cell_type": "markdown",
   "metadata": {},
   "source": [
    "Those familiar with Liouville's theorem may object to the charge-exchange method. Liouville's theorem applies to any system which obeys Hamilton's equations:\n",
    "\n",
    "$$ \\dot{\\mathbf{q}} = \\frac{\\partial\\mathbf{H}}{\\partial\\mathbf{p}} ,\\quad \\dot{\\mathbf{p}} = -\\frac{\\partial\\mathbf{H}}{\\partial\\mathbf{q}},$$\n",
    "\n",
    "where $\\mathbf{q}$ are the coordinates and $\\mathbf{p}$ are the momenta. Imagine we took a volume of phase space and started to fill it with particles; in fact, we fill all of the infinite number of points inside the volume. Then we evolve the system in time. The final distribution of particles may have changed shape, but Liouville's theorem states that its volume will not have changed. Mathematically, this is due to Hamilton's equations being equivalent to a coordinate transformation whose Jacobian has a determinant equal to one. So the objection is that the phase space volume of the entire system (linac beam + circulating beam) seems to *decrease* when they are merged, i.e., the linac beam is stacked directly on top of the circulating beam, and that this should be disallowed by Liouville's theorem. Is this true?"
   ]
  },
  {
   "cell_type": "markdown",
   "metadata": {},
   "source": [
    "I read a paper by A. Ruggiero which helped to clarify this issue {%cite Ruggiero1978%}. The key point is that Liouville's theorem deals with *distributions* rather than finite numbers of particles. Any finite number of particles will not fill up every point in phase space, so there is nothing preventing another finite number of particles from being stacked on top of the original group. The real limitation is how to stack the two groups, which is where the charge exchange technique becomes necessary."
   ]
  },
  {
   "cell_type": "markdown",
   "metadata": {},
   "source": [
    "### The future: lasers "
   ]
  },
  {
   "cell_type": "markdown",
   "metadata": {},
   "source": [
    "A major research project at the SNS is to demonstrate laser-assisted charge exchange (LACE), in which a laser is used to strip the electrons intead of a foil. This would overcome the scattering losses from foils as well as their finite lifetimes, and is a very promising direction as machines continue to increase in power {%cite Cousineau2017%}."
   ]
  },
  {
   "cell_type": "markdown",
   "metadata": {},
   "source": [
    "## Phase space painting "
   ]
  },
  {
   "cell_type": "markdown",
   "metadata": {},
   "source": [
    "In the last section, we assumed that the particles didn't interact with each other, but in reality, space charge is the fundamental limit on the intensity in high-power hadron accelerators. Injecting at the same position in space will cause the beam to become very dense, and the beam will then expand due to the increased space charge forces. It's likely that this will produce a very non-uniform distribution which, as mentioned in [this post](https://austin-hoover.github.io/blog/accelerators/space%20charge/differential%20equations/publications/2021/05/13/matched_Danilov_dist.html), is undesirable. This is the motivation for so-called *phase space painting* or simply *painting*. The idea is to change the transverse position and momentum of the circulating beam over time in order to slowly fill or \"paint\" the beam in phase space and hopefully produce a more uniform density beam. Another motivation for painting is to avoid excessive foil hits, since these lead to shorter foil lifetimes and also beam scattering."
   ]
  },
  {
   "cell_type": "markdown",
   "metadata": {},
   "source": [
    "### Time-dependent kicker magnets"
   ]
  },
  {
   "cell_type": "markdown",
   "metadata": {},
   "source": [
    "Here is a zoomed in view of the injection region."
   ]
  },
  {
   "cell_type": "markdown",
   "metadata": {},
   "source": [
    "<br>\n",
    "<img src=images_2021-05-27/injection_region1.png width=600>\n",
    "<br>"
   ]
  },
  {
   "cell_type": "markdown",
   "metadata": {},
   "source": [
    "The blue elements which aren't labeled in the ring are just quadrupoles used to focus the beam. This leaves the \"bump\" or \"kicker\" magnets and the \"Chicane\" magnets. These are both dipoles, but they are a bit different. The chicane dipoles provide a fixed horizontal bump to the closed orbit so that it is aligned with the beam from the linac. The kickers, on the other hand, can move the closed orbit horizontally or vertically, and they're time-dependent. Regarding the latter point, the current from the magnet's power supply, and therefore the magnetic field, can be varied during injection. Let's take a look at the vertical closed orbit with the kickers turned on (black line)."
   ]
  },
  {
   "cell_type": "markdown",
   "metadata": {},
   "source": [
    "![](images_2021-05-27/injection_region.png)"
   ]
  },
  {
   "cell_type": "markdown",
   "metadata": {},
   "source": [
    "The dark blue boxes are quadrupoles, the red boxes are Chicane dipoles, and the remaining elements are the horizontal (green) and vertical (yellow) kickers. Without the kickers, the closed orbit will just go straight through the center of each magnet, and a similar thing holds in the horizontal plane. Thus, we have control over the horizontal and vertical position of the circulating beam relative to the injected beam. But there is also the possibility that the trajectory is converging or diverging at the foil, so we also have control over the horizontal and vertical circulating beam *slope* relative to the injected beam. These eight kickers therefore give full control over the transverse phase space coordinates of the circulating beam relative to the injected beam at every point during the injection. "
   ]
  },
  {
   "cell_type": "markdown",
   "metadata": {},
   "source": [
    "### Production painting"
   ]
  },
  {
   "cell_type": "markdown",
   "metadata": {},
   "source": [
    "The time-dependence of each kicker magnet is determined by a waveform which determines the current given to its power supply as a function of time; for example, we could have a linear waveform, square root waveform, etc. Choosing these waveforms amounts to choosing the initial and final position/slope of the circulating beam, as well as the rate of change in the position/slope. The standard \"production\" scheme in the SNS (as in neutron production) is to use a square root waveform so that \n",
    "\n",
    "$$ x_{inj} - x_{co} = (x_{max} - x_{min}) \\sqrt{t / t_{max}} + x_{min}, $$\n",
    "$$ y_{inj} - y_{co} = (y_{max} - y_{min}) \\sqrt{t / t_{max}} + y_{min}, $$\n",
    "\n",
    "where the *co* subscript means \"closed orbit\" and *inj* means \"injected beam\". The slope of the circulating beam is kept at zero in this scheme."
   ]
  },
  {
   "cell_type": "markdown",
   "metadata": {},
   "source": [
    "It's probably best to use some visualizations at this point. I simulated the injection painting using [PyORBIT](https://github.com/austin-hoover/py-orbit); included in this simulation are effects such as space charge, nonlinear magnetic fringe fields, scattering from the foil, etc., so the results should be somewhat similar to the real world. 260 simulation particles were injected on each turn to give a final number of 260,000, which should provide good statistics for the space charge solver which operates on a $128 \\times 128$ transverse grid. The whole simulation took a few hours to run on my laptop. (The space charge solver I used makes some approximations in the longitudinal dimension; a more realistic solver will push the execution time from a few hours to a few days.)\n",
    "\n",
    "The following animation shows this simulated beam at the injection point during the first 35 turns in the ring. The off-diagonal subplots show the correlations between the four phase space variables (a sample of 10,000 particles is used) and the on-diagonal subplots show the histograms for each variable. The foil location is shown by the red dot in the $x$-$y$ plane."
   ]
  },
  {
   "cell_type": "markdown",
   "metadata": {},
   "source": [
    "<!-- ![](images_next/painting_short.mov) -->"
   ]
  },
  {
   "cell_type": "markdown",
   "metadata": {},
   "source": [
    "![](images_2021-05-27/painting_short.mov)"
   ]
  },
  {
   "cell_type": "markdown",
   "metadata": {},
   "source": [
    "Keep in mind that each little cluster is actually a bunch of particles; it's hard to resolve because the width is small compared to the full beam. Notice that, since the circulating and injected beams are offset to begin with, the injected particles start to trace ellipses in the $x$-$x'$ and $y$-$y'$ projections. The frequencies at which the particles oscillate in each plane are not the same, so the path in $x$-$y$ space is constantly changing, eventually filling a rectangular region. The next animation shows the beam over all 1000 turns."
   ]
  },
  {
   "cell_type": "markdown",
   "metadata": {},
   "source": [
    "![](images_2021-05-27/painting_long.mov)"
   ]
  },
  {
   "cell_type": "markdown",
   "metadata": {},
   "source": [
    "Notice that the beam size is slowly increasing, and also that the density is steadily increasing; this is only apparent from the histograms since I'm using a random sample of particles in the scatter plots. Space charge, as well as nonlinear effects, tend to round the hard edges of the the originally rectangular beam. The beam also exhibits some interesting dynamics after turn 100, and again after turn 800, when it begins to tilt back and forth, which is probably due to space charge coupling the two planes. In the end, the beam has a somewhat uniform density, is not tilted, is not rotating, and is quite intense ($1.5 \\times 10^{14}$ particles), so the basic goals of the painting scheme have been achieved. The beam can now be extracted and collided with the target to produce neutrons."
   ]
  },
  {
   "cell_type": "markdown",
   "metadata": {},
   "source": [
    "## Conclusion"
   ]
  },
  {
   "cell_type": "markdown",
   "metadata": {},
   "source": [
    "This post briefly outlined a method to \"paint\" a high-intensity proton beam in a ring. One exciting project which is going on right now is to modify the painting method to produce an elliptical, uniform density, rotating beam which approximates the [Danilov distribution](https://austin-hoover.github.io/blog/accelerators/space%20charge/differential%20equations/publications/2021/05/13/matched_Danilov_dist.html). This basically involves changing the slope along with the position of the circulating beam."
   ]
  },
  {
   "cell_type": "markdown",
   "metadata": {},
   "source": [
    "**References**\n",
    "\n",
    "{% bibliography --cited %}"
   ]
  }
 ],
 "metadata": {
  "kernelspec": {
   "display_name": "Python 3",
   "language": "python",
   "name": "python3"
  },
  "language_info": {
   "codemirror_mode": {
    "name": "ipython",
    "version": 3
   },
   "file_extension": ".py",
   "mimetype": "text/x-python",
   "name": "python",
   "nbconvert_exporter": "python",
   "pygments_lexer": "ipython3",
   "version": "3.8.10"
  },
  "toc": {
   "base_numbering": 1,
   "nav_menu": {},
   "number_sections": true,
   "sideBar": true,
   "skip_h1_title": false,
   "title_cell": "Table of Contents",
   "title_sidebar": "Contents",
   "toc_cell": false,
   "toc_position": {},
   "toc_section_display": true,
   "toc_window_display": false
  },
  "toc-autonumbering": false,
  "toc-showtags": false
 },
 "nbformat": 4,
 "nbformat_minor": 4
}
