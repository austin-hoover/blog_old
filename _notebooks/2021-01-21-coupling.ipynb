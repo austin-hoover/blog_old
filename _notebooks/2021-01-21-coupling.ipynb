{
 "cells": [
  {
   "cell_type": "code",
   "execution_count": 1,
   "metadata": {},
   "outputs": [],
   "source": [
    "#hide\n",
    "import sys\n",
    "from IPython.display import HTML, display\n",
    "import numpy as np\n",
    "import matplotlib\n",
    "import matplotlib.pyplot as plt\n",
    "\n",
    "sys.path.append('/Users/46h/Research/code/accphys/')\n",
    "from tools import (\n",
    "    plotting as myplt,\n",
    "    animation as myanim,\n",
    "    coupling as bl,\n",
    "    utils,\n",
    "    matrix_lattice as ml,\n",
    "    envelope_analysis as ea\n",
    ")"
   ]
  },
  {
   "cell_type": "markdown",
   "metadata": {},
   "source": [
    "# Linear Particle Dynamics in an Accelerator\n",
    "> Studying particle motion in the presence of time-dependent linear forces.\n",
    "\n",
    "- toc: true \n",
    "- badges: false\n",
    "- comments: true\n",
    "- categories: [physics]\n",
    "- image: images/chart-preview.png"
   ]
  },
  {
   "cell_type": "markdown",
   "metadata": {},
   "source": [
    "**Don't forget to spell check!**"
   ]
  },
  {
   "cell_type": "markdown",
   "metadata": {},
   "source": [
    "## Introduction "
   ]
  },
  {
   "cell_type": "markdown",
   "metadata": {},
   "source": [
    "### What is a particle accelerator?"
   ]
  },
  {
   "cell_type": "markdown",
   "metadata": {},
   "source": [
    "[Particle accelerators](https://en.wikipedia.org/wiki/Particle_accelerator) are machines which produce groups of charged particles (known as *beams*), increase their kinetic energy, and guide them to a target. These machines are invaluable to modern scientific research. The most famous examples are *colliders*, such as the [LHC](https://home.cern/science/accelerators/large-hadron-collider), in which two beams are smashed together to generate fundamental particles. A lesser known fact is that the fields of condensed matter physics, material science, chemistry, and biology also benefit tremendously from accelerators. For example, in scattering experiments a beam is collided with a target and the subsequent deflection of the beam is used to learn information about the target. This is accomplished with a neutron beam in *Spallation neutron sources* such as [SNS](https://neutrons.ornl.gov/sns), with an electron beam in *electron scattering facilities* such as [CEBAF](https://science.osti.gov/np/Facilities/User-Facilities/CEBAF), or with photon beams in *synchrotron light sources* such as [APS](https://www.aps.anl.gov). In addition to scientific research, accelerators find use in [medicine](http://www.accelerators-for-society.org/health/index.php?id=7), particularly for cancer treatment, and also in various [industrial applications](http://www.accelerators-for-society.org/industry/index.php?id=8)."
   ]
  },
  {
   "cell_type": "markdown",
   "metadata": {},
   "source": [
    "<img src=\"images/lhc.jpg\" width=\"500\">\n",
    "<center>Detector in the LHC.</center>"
   ]
  },
  {
   "cell_type": "markdown",
   "metadata": {},
   "source": [
    "There are generally a few property of the beam which are very important to experimentalists; in colliders it is the energy and luminosity, in spallation sources it is the intensity, and in light sources it is the brightness. There is thus a constant need to push these parameters to new regions. For example, below is the famous Livingston plot which shows the energy achieved by various machines over the past century (note on energy scale)."
   ]
  },
  {
   "cell_type": "markdown",
   "metadata": {},
   "source": [
    "<img src=\"images/livingston.png\" width=\"400\">"
   ]
  },
  {
   "cell_type": "markdown",
   "metadata": {},
   "source": [
    "There are many physics issues associated with the optimization of these beam parameters. *Accelerator physics* is a field of applied physics which studies these issues. The task of the accelerator physicist is to understand, control, and measure the journey of the beam from its creation to its final destination. The difficulty of this task has grown over time; the improvement accelerator performance has brought with it a staggering increase in size and complexity. The construction and operation of modern accelerators generally requires years of planning, thousands of scientists and engineers, and hundreds of millions or even billions of dollars.\n",
    "\n",
    "Despite this complexity, the physics principles upon which these machines are built are quite simple. Most textbooks on the subject start with the motion of a particle in an accelerator under a few simplifying assumptions, so that the equations of motion have an analytic solution. This post basically sumarizes the results of such an analysis for a general audience."
   ]
  },
  {
   "cell_type": "markdown",
   "metadata": {},
   "source": [
    "### Physics principles"
   ]
  },
  {
   "cell_type": "markdown",
   "metadata": {},
   "source": [
    "The force on a particle in an electric field $\\mathbf{E}$ and a magnetic field $\\mathbf{B}$ is given by\n",
    "\n",
    "$$\\mathbf{F} = q\\left({\\mathbf{E} + \\mathbf{v} \\times \\mathbf{B}}\\right),$$\n",
    "\n",
    "where $\\mathbf{v}$ is the particle velocity and $q$ is the particle charge. An accelerator consists of a series of elements, each with their own electromagnetic field. The collection of these elements is called a *lattice*. There are three basic things we need to be able to accomplish using these fields: acceleration, steering, and focusing. Acceleration is usually achieved in a linear accelerator (linac) using a series of cavities. The electric field in these cavities oscillates back and forth along the direction of motion, as shown by this fantastic animation from Wikipedia:"
   ]
  },
  {
   "cell_type": "markdown",
   "metadata": {},
   "source": [
    "<img src=\"images/linac.gif\" width=\"600\">"
   ]
  },
  {
   "cell_type": "markdown",
   "metadata": {},
   "source": [
    "In this post we will not consider acceleration, but will instead focus on steering and focusing, i.e., we assume the paricles move at a constant speed. We should define a coordinate system before going further. It is conventional to define the $s$ axis pointing pointing along the design trajectory, and the $x$ and $y$ axes defined in the plane transverse to $s$."
   ]
  },
  {
   "cell_type": "markdown",
   "metadata": {},
   "source": [
    "<img src=\"images/coordinate_system.png\">"
   ]
  },
  {
   "cell_type": "markdown",
   "metadata": {},
   "source": [
    "A particle on the design trajectory always has $x = y = 0$; however, in reality this is never true. Particles instead perform small oscillations about the design orbit in the transverse plane. It is also convenient to use to the slope, $x$', instead of the velocity. Usually $x$ and $y$ are measured in millimeters, and $x'$ and $y'$ are measured in milliradians ($\\tan\\theta \\approx \\theta$ for small $\\theta$).\n",
    "\n",
    "Now onto the second and third tasks: steering and focusing. The former determines the design trajectory, and the latter ensures particles stay close to the design trajectory. One thing that is interesting about the force from a magnetic field is that it becomes much stronger for a very energetic particle. Magnetic fields, not electric fields, are used for transverse steering and focusing for this reason.\n",
    "\n",
    "The magnetic field used for steering is the dipole field given by \n",
    "\n",
    "$$\\mathbf{B}_{dipole} \\propto \\hat{y}.$$\n",
    "\n",
    "This will simply bend the particle in a circle. A dipole field can be formed by pointing the north pole of a magnet at the south pole of a different magnet. Next, quadrupole fields are used for focusing:\n",
    "\n",
    "$$\\mathbf{B}_{quad} \\propto y\\hat{x} + x\\hat{y}.$$\n",
    "\n",
    "A quadrupole field can be obtained by overlaying two dipole fields, and rotating them 90 degrees relative to each other. These fields are shown below."
   ]
  },
  {
   "cell_type": "markdown",
   "metadata": {},
   "source": [
    "<img src=\"images/dipole_quadrupole.png\">"
   ]
  },
  {
   "cell_type": "markdown",
   "metadata": {},
   "source": [
    "The force from the quadrupole is focusing in the horizontal direction, but *defocusing* in the vertical direction; however, net focusing is still achieved by alternating the direction of the quadrupoles. This is analogous to a beam of light passign through a series of converging and diverging lenses. If the spacing and curvature of the lenses is correctly chosen a net focusing can be achieved. In this sense the quadrupoles act as magnetic lenses, as illustrated below."
   ]
  },
  {
   "cell_type": "markdown",
   "metadata": {},
   "source": [
    "<img src=\"images/thinlens.png\">"
   ]
  },
  {
   "cell_type": "markdown",
   "metadata": {},
   "source": [
    "## Linear motion \n",
    "The elements we just listed, dipoles and quadrupoles, provide the core of most modern accelerators, and they all have the nice property that the force they exert is proportional to the displacement. An alternative way to say this is that the fields are *linear*. This reminds us of the system we all know and love: the harmonic oscillator. Of course, this is an approximation, and in reality the fields will contain higher order moments; however, in most cases it is a pretty good approximation, and making it allows us to write down exactly the position and momentum of a particle at every position in the lattice. "
   ]
  },
  {
   "cell_type": "markdown",
   "metadata": {},
   "source": [
    "### One-dimensional case"
   ]
  },
  {
   "cell_type": "markdown",
   "metadata": {},
   "source": [
    "We will first look at the one-dimensional (1D) case, which means we only consider motion along the horizontal (or vertical) direction. We can do this because the forces in the $x$ direction only depend on the $x$ coordinate. The coupled case is more involved, and is discussed in the next section. \n",
    "\n",
    "So, if we assume the fields are perfectly linear, we could write down the following equation of motion:\n",
    "\n",
    "$$x'' + k(s)x = 0,$$"
   ]
  },
  {
   "cell_type": "markdown",
   "metadata": {},
   "source": [
    "### Two-dimensional case (coupled motion)"
   ]
  },
  {
   "cell_type": "markdown",
   "metadata": {},
   "source": [
    "This section will describe the Bogacz-Lebedev parameterization of 2D motion in the presence of time-dependent + coupled linear forces."
   ]
  },
  {
   "cell_type": "markdown",
   "metadata": {},
   "source": [
    "## Conclusion"
   ]
  },
  {
   "cell_type": "markdown",
   "metadata": {},
   "source": [
    "This section will wrap up the post and give a preview of things to come (space charge, simulation techniques, etc.)"
   ]
  }
 ],
 "metadata": {
  "kernelspec": {
   "display_name": "Python 3",
   "language": "python",
   "name": "python3"
  },
  "language_info": {
   "codemirror_mode": {
    "name": "ipython",
    "version": 3
   },
   "file_extension": ".py",
   "mimetype": "text/x-python",
   "name": "python",
   "nbconvert_exporter": "python",
   "pygments_lexer": "ipython3",
   "version": "3.7.6"
  },
  "toc-autonumbering": false,
  "varInspector": {
   "cols": {
    "lenName": 16,
    "lenType": 16,
    "lenVar": 40
   },
   "kernels_config": {
    "python": {
     "delete_cmd_postfix": "",
     "delete_cmd_prefix": "del ",
     "library": "var_list.py",
     "varRefreshCmd": "print(var_dic_list())"
    },
    "r": {
     "delete_cmd_postfix": ") ",
     "delete_cmd_prefix": "rm(",
     "library": "var_list.r",
     "varRefreshCmd": "cat(var_dic_list()) "
    }
   },
   "types_to_exclude": [
    "module",
    "function",
    "builtin_function_or_method",
    "instance",
    "_Feature"
   ],
   "window_display": false
  }
 },
 "nbformat": 4,
 "nbformat_minor": 4
}
