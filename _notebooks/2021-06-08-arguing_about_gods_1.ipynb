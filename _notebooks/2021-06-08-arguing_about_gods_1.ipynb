{
 "cells": [
  {
   "cell_type": "markdown",
   "id": "4fcadf2e-6d80-4c74-86b9-c2e7ad081824",
   "metadata": {},
   "source": [
    "# Arguing about Gods (part 1)\n",
    "> Preliminary Considerations\n",
    "- comments: true\n",
    "- toc: true\n",
    "- badges: false\n",
    "- image: images/arguing.jpg\n",
    "- categories: [book study, philosophy, theism]\n",
    "- author: Austin Hoover"
   ]
  },
  {
   "cell_type": "markdown",
   "id": "be54ae5d-1ddc-475e-a65b-5d3a6f3ee212",
   "metadata": {},
   "source": [
    "## Introduction "
   ]
  },
  {
   "cell_type": "markdown",
   "id": "a4ad8c08-aa0b-4e6b-a041-633cd4c2593b",
   "metadata": {},
   "source": [
    "I’m currently reading the book *Arguing About Gods* by Graham Oppy, one of the most prominent philosophers of religion. Oppy’s main thesis is that there are no successful arguments for the existence of orthodoxly conceived monotheistic gods, where “orthodoxly conceived monotheistic god” refers to an omnipotent, omniscient, omnibenevolent creator of the world. I’ll take “God” to mean the same thing."
   ]
  },
  {
   "cell_type": "markdown",
   "id": "61bd410a-fef0-4572-ad2a-beaa660ea69b",
   "metadata": {},
   "source": [
    "I plan to write a summary of and/or reflection on each chapter of the book. The chapters are labeled as follows:\n",
    "\n",
    "1.\tPreliminary Considerations\n",
    "2.\tOntological Arguments\n",
    "3.\tCosmological Arguments\n",
    "4.\tTeleological Arguments\n",
    "5.\tPascal’s Wager\n",
    "6.\tArguments from Evil\n",
    "7.\tOther Arguments\n",
    "8.\tConcluding Remarks"
   ]
  },
  {
   "cell_type": "markdown",
   "id": "48ab1b40-864c-410f-afa3-818a67bc4734",
   "metadata": {},
   "source": [
    "This post will focus on the first chapter. Before I begin, I should mention why I’m studying this topic (the existence of God). One reason is that it’s interesting, but another reason is that my belief about the existence of God has the potential to influence my other beliefs. It is thus an important question to me. I should also mention what I hope to achieve during this study. There are many questions that I have related to the question of the existence of God (call this question *G*); here are a few:\n",
    "* Is *G* answerable?\n",
    "* How, and on what basis, do I currently answer *G*?\n",
    "* How, and on what basis, would I answer *G* if I had different background knowledge, experiences, beliefs, etc.?\n",
    "* How, and on what basis, would I answer *G* with fresh eyes, i.e., if I didn’t consider my background knowledge, experiences, beliefs, etc.?\n",
    "* How, and on what basis, would I answer *G* if I were perfectly rational?\n",
    "* How confident am I in my answer to *G*? \n",
    "* Could my answer to *G* change in the future?\n",
    "* What should I think about people who answer *G* differently than me? Are they more reasonable? Are they less reasonable?"
   ]
  },
  {
   "cell_type": "markdown",
   "id": "4833bfec-6a18-41e6-9611-850b063811b9",
   "metadata": {},
   "source": [
    "I suppose that my general goal is to think more carefully about each of these questions. I’m specifically interested in forming a more concrete answer to “How confident am I in my answer to *G*?”. Let me focus on this for a moment. It will be helpful to adopt the following metric which is discussed in the book. Suppose that I’m forming a belief about whether *S* is true or false. I’ll assign a value *x* to *S* such that *x* = 0 if I’m completely confident that *S* is false, and *x* = 1 if I’m completely confident that *S* is true. But maybe it’s better to instead say that *x* lies somewhere within the range *r* = (*p*, *q*); I might let *r* = (0.9, 1) if I’m very confident, *r* = (0, 0.1) if I’m not very confident, etc. It’s also still possible to choose a range with no width, like *r* = (0.33, 0.33)."
   ]
  },
  {
   "cell_type": "markdown",
   "id": "3ecea4b5-d550-4168-b078-273748b4c247",
   "metadata": {},
   "source": [
    "If *S* = “God exists”, then the range chosen by the atheist may be bounded by (0, 0.5), the range chosen by the theist may be bounded by (0.5, 1), and the range chosen by the agnostic may be bounded by (0.5, 0.5). I think that I would choose *r* = (0.4, 0.7) at this moment in time for the following reasons. If I were unaware of any arguments for or against the existence of God, then I think that r would be symmetric about 0.5, perhaps (0.4, 0.6). I don’t think this is a good or bad thing — it’s how my brain works, which is a function of many things. I would be tempted to call this agnosticism. Nonetheless, I’m attracted by several arguments for the existence of God, and the result is that my “belief pendulum” swings farther toward theism than atheism, hence the upper bound of 0.7. "
   ]
  },
  {
   "cell_type": "markdown",
   "id": "a96449e9-e45d-4616-b200-066b32336cee",
   "metadata": {},
   "source": [
    "Choosing these numbers is difficult, and it’s not easy to know if the numbers I chose are accurate. I mean “accurate” in the following sense: maybe, if a gun was held to my head, or if I thought about the question in more depth, I would choose an interval that has a different width or mean. I’ll hopefully have a more concrete/accurate answer by the end of this study. I’ll now move on to summarizing the four sections of this first chapter."
   ]
  },
  {
   "cell_type": "markdown",
   "id": "d19d76c7-c861-4992-a7cb-79617d794ea6",
   "metadata": {},
   "source": [
    "## Arguments about the existence of monotheistic gods"
   ]
  },
  {
   "cell_type": "markdown",
   "id": "d020d53c-7b17-40f2-84c2-48799aa67a6d",
   "metadata": {},
   "source": [
    "This section explains how the various arguments for and against the existence of God have been organized in the book. First, ontological arguments appeal to reason alone. Second, cosmological arguments appeal to some foundational structure of the world.  Third, teleological arguments appeal to various contingent features of the world. Fourth, moral arguments appeal to the moral structure of the world. Fifth, arguments such as Pascal’s wager don’t push for the existence of God, but rather claim that belief in God is rational. There are also other “minor” arguments such as the argument from consciousness or the argument from beauty. Finally, there are arguments from personal religious experience, corporate religious experience, etc. "
   ]
  },
  {
   "cell_type": "markdown",
   "id": "e0bf673a-85bd-4e0f-b5e2-7561dca91a51",
   "metadata": {},
   "source": [
    "An interesting point is made about cumulative arguments. If we have a set of arguments that each has the same conclusion, is the entire set stronger than any of the individual members? Not necessarily. For example, there could be one circular argument in the set, with the rest being good arguments. In this case, a mega-argument formed from all the arguments in the set would also be circular and hence would be weaker than any of the good arguments in isolation. The mega-argument could be stronger than any individual argument if each argument is viewed probabilistically, but Oppy thinks that this may be problematic and leaves his explanation for later chapters. "
   ]
  },
  {
   "cell_type": "markdown",
   "id": "39cc960e-2b66-4f0e-90ed-0810e02b776f",
   "metadata": {},
   "source": [
    "## Arguments"
   ]
  },
  {
   "cell_type": "markdown",
   "id": "813a0edd-7f9c-45da-902f-9df4dc6e0235",
   "metadata": {},
   "source": [
    "This section discusses what makes arguments successful. It’s suggested that this requires an account of rationality and rational belief revision, an account of arguments, an account of rational argumentation amongst rational agents, and an account of the difficulties stemming from less-than-perfectly rational agents. "
   ]
  },
  {
   "cell_type": "markdown",
   "id": "6e9c4f01-b0f9-43ba-a859-a889b527c503",
   "metadata": {},
   "source": [
    "It’s claimed that it’s possible for two perfectly rational people to disagree even if they have access to the same set of evidence. This seems wrong at first. Wouldn’t two perfectly rational people come to the same conclusions about the same data? Well, the reasoning is that we generally make decisions in a Bayesian sense, evaluating the probability of the evidence given a set of prior probabilities or prior beliefs. In fact, it seems impossible not to do this, which means that every new belief is formed against the background of many other beliefs. If this is true, then, of course, we can expect disagreement between two less-than-perfectly rational people.   "
   ]
  },
  {
   "cell_type": "markdown",
   "id": "3486a0c7-d919-43c7-aee5-e8fc4da3a27d",
   "metadata": {},
   "source": [
    "It's also claimed that the point of arguments is to cause reasonable belief revision, i.e., to change the minds of reasonable people. An argument would then be successful if it convinced every reasonable person to accept its conclusion. This is a high standard of success, but Oppy says that he will later argue that it’s not a good idea to call an argument successful if it doesn’t cause you, personally, to believe its conclusion."
   ]
  },
  {
   "cell_type": "markdown",
   "id": "80089689-861f-44c3-9e05-68b694441373",
   "metadata": {},
   "source": [
    "It’s also claimed that successful arguments are extremely difficult to form. Imagine that I’m trying to change Alice’s mind. Since Alice already has a set of prior beliefs, I should form an argument whose conclusion follows from premises that Alice already believes; otherwise, I’ll need to change Alice’s mind about her prior beliefs with a separate argument that uses a different subset of Alice’s prior beliefs. We may eventually reach beliefs for which there are no appeals to other beliefs for justification (see later discussion on basic beliefs), and there is no hope of changing Alice’s mind if we disagree about those. The other thing I could do is show that Alice’s beliefs are contradictory. The main point is that it could often be the case that Alice just rejects one of my premises and that this could lead down a rabbit hole at the end of which is a fundamental difference in worldviews.  "
   ]
  },
  {
   "cell_type": "markdown",
   "id": "775dd3f6-86df-44b7-8215-f6cc01b792d2",
   "metadata": {},
   "source": [
    "## Some considerations about agnosticism"
   ]
  },
  {
   "cell_type": "markdown",
   "id": "bb8610e0-90ff-466d-ad0d-4855a49da145",
   "metadata": {},
   "source": [
    "In this section, Oppy distinguishes between weak agnosticism and strong agnosticism. He then argues that strong agnosticism fails, but that weak agnosticism is acceptable. The strong agnostic’s view can be summarized by the following argument:\n",
    "\n",
    "1. In circumstances in which the available evidence no more — and no less — supports $p$ than it supports logically incompatible hypotheses $p_1$, $\\dots$, $p_n$, $\\dots$, one ought to suspend judgment between $p$, $p_1$, $\\dots$, $p_n$, $\\dots$ as well as the hypothesis that $p$ is false.\n",
    "2. There are infinitely many God hypotheses, none of which are more likely than the others given the available evidence (e.g., a god who is not quite omniscient, a god who is not quite omnipotent, two gods rather than one, etc.). \n",
    "3. It is neither rational to believe that God exists, nor to believe that God does not exist."
   ]
  },
  {
   "cell_type": "markdown",
   "id": "8a5e99c8-e13c-4e70-bd8a-262d483ea559",
   "metadata": {},
   "source": [
    "Let’s start with (1). It wasn’t obvious to me why we shouldn’t think that *p* is false in this case. There is, however, a paradox that illustrates the reason. Consider a lottery with infinitely many tickets. I shouldn’t think that my ticket is the winner since the probability is infinitesimal {% fn 1 %}. This is like suspending belief that any of the God hypotheses are true. But I should believe this about each ticket, which amounts to believing that *no* ticket is the winner — a false belief. This is like suspending belief that none of the God hypotheses are true. So, I should neither believe nor disbelieve that God exists. "
   ]
  },
  {
   "cell_type": "markdown",
   "id": "a4bbf28a-c339-42fd-a955-f6233612d986",
   "metadata": {},
   "source": [
    "So, (1) seems to make sense; however, there is a major problem: believing (1) could make it very difficult to avoid skepticism about basic things like facts about the external world. Consider my belief that I am not a brain in a vat (BIV). On what basis do I believe this? My belief can’t be based on external evidence because the BIV hypothesis explains this evidence just as well as the alternative. Rather, it must be due to some internal evidence, i.e., an intuition, a feeling, or just something that I take to be true a priori; in other words, the belief is *basic*. "
   ]
  },
  {
   "cell_type": "markdown",
   "id": "f5b5185a-c708-43a6-9e82-89b84757f10f",
   "metadata": {},
   "source": [
    "If I accept that some beliefs are basic and accept the principle that it’s best to keep a belief unless there is some good reason to give it up (Oppy calls this “methodological conservatism”), then I have good reason to believe that I’m not a BIV. The strong agnostic doesn’t agree with this and seems forced to suspend judgment on whether they are a BIV. The same would go for the belief that I didn’t pop into existence two seconds ago, and so on."
   ]
  },
  {
   "cell_type": "markdown",
   "id": "54946084-dd4d-405c-bde4-94baedf81cd2",
   "metadata": {},
   "source": [
    "The strong agnostic needs to make some distinction between the God hypotheses and the cases involving extreme skepticism; however, there’s no clear way to do this. Oppy notes that the best approach is probably to say that my skepticism about the external world requires me to believe that I’m special — somehow, I’m the only real thing in my perceived world — and that this gives me a reason to reject my skepticism. Call this the “I’m special” consideration ISC. However, Oppy proceeds, if the strong atheist concedes that the ISC is required to distinguish between these cases, then they have conceded that external evidence is not the only thing that can support reasonable beliefs, for the reason why the ISC should count against the truth of a belief is not clear from external evidence even though it may be clear to the strong agnostic. So, the problem is not that strong agnostics are unreasonable for liking the ISC, it’s just that they might be forced to choose between extreme skepticism and admitting that theists and atheists can be reasonable. In other words, the strong agnostic cannot believe (3) and the following statement at the same time:   \n",
    "\n",
    "<ol start=\"4\">\n",
    "  <li>It is possible to characterize a suitable notion of evidential support that does not rely upon a relativization to background assumptions.</li>\n",
    "</ol>\n",
    "\n",
    "This last view — suspending belief or non-belief in God while recognizing that this is not the only reasonable way to proceed — is weak agnosticism. "
   ]
  },
  {
   "cell_type": "markdown",
   "id": "1e9bafb4-9a4d-4d4a-8b98-65849e4f6729",
   "metadata": {},
   "source": [
    "## Alternative deities"
   ]
  },
  {
   "cell_type": "markdown",
   "id": "ca014e30-c3a5-4e05-87ab-a9728e47186d",
   "metadata": {},
   "source": [
    "The final section of this chapter considers the arguments for alternative deities like God\\*. God\\* is exactly like God but is completely evil. The thought is that the arguments for God work just as well for God\\*. For example, one way to respond to the problem of evil is to adopt skeptical theism {% fn 2 %}, and it seems that this view could also be used as a defense of God\\*. Any arguments for which this applies would then seem to be ineffective at changing the beliefs of non-theists. A further step would be to claim, like in the previous section, that there is no way to choose God over God\\*, meaning that the theist should give up their belief in God.  "
   ]
  },
  {
   "cell_type": "markdown",
   "id": "efd866ab-f830-4d17-b124-09b1d148c7e1",
   "metadata": {},
   "source": [
    "Since I’d like to think that moral facts exist and can be known, I found the following critique to be convincing. An omniscient being would know all moral facts, but it’s impossible to believe that an action is wrong without being inclined to refrain from performing that action, i.e., I couldn’t know that murder is wrong but have no problem carrying out murder myself. Therefore, God\\* is logically impossible. "
   ]
  },
  {
   "cell_type": "markdown",
   "id": "ee0b39e5-bbf5-480a-b721-6c35956a373e",
   "metadata": {},
   "source": [
    "If God\\* is off the table, then God’ could be introduced. God’ is as close to God\\* as possible: completely evil, but not quite omniscient. Again, the arguments for God seem to also work for God’. If the idea of God’ is shown to be incoherent, it seems that we could think of God’’, God’’’, God#, etc., all of which are slightly different so that they avoid whatever problem was found with the previous god. Oppy thinks that these alternative deities could be useful to the non-theist as a defense, but not as an attack. This is because the theist likely has a set of prior beliefs that make an orthodoxly conceived monotheistic god seem the most likely to them even if they accept that some arguments don’t nail down this god’s moral character. In general, it’s supposed that we shouldn’t be forced to give up a belief just because we recognize that there are alternatives that seem just as good to a reasonable outside observer. "
   ]
  },
  {
   "cell_type": "markdown",
   "id": "f40b465d-6293-41a1-a924-32b3e29b04ef",
   "metadata": {},
   "source": [
    "## Conclusion"
   ]
  },
  {
   "cell_type": "markdown",
   "id": "eace1733-de0c-40ed-b258-e68decc641b5",
   "metadata": {},
   "source": [
    "I’ll first comment on belief revision. The idea that it’s difficult to change the mind of a reasonable person is further supported by observing myself. I remember having long (friendly, non-serious) debates with my friends in college about various topics. I recall that, in some of these discussions, I didn’t even have a strong opinion on the topic beforehand. Yet, it was quite difficult to change the belief that I formed at the beginning of the debate. I would think: “I formed that belief five minutes ago based on my intuition, and my intuition is infallible!” In hindsight, I was obviously wrong some of the time, and the arguments I presented were likely weak. The fact that that I had a strong resistance to changing my beliefs, even though I had very little to lose by giving them up, demonstrates that it would be difficult to change my mind about my core beliefs using arguments alone."
   ]
  },
  {
   "cell_type": "markdown",
   "id": "af4b362f-d36e-43cc-885e-3b1ff82d6541",
   "metadata": {},
   "source": [
    "A great deal of this chapter was about a subject with which I’m not very familiar: epistemology. The first time I thought about epistemology was a few months ago when I read Alvin Plantinga’s \n",
    "*Knowledge and Christian Belief* {% fn 3 %}. In this book, Plantinga defends the existence and justification of basic beliefs, and argues that, if God exists, belief in God could be basic. If my belief that *p* is properly basic, I’m justified in believing that *p* without inference to any other belief if I’m unaware of any defeaters. If I’ve understood Oppy’s methodological conservatism correctly, it’s a similar way of thinking. I’m sure that these ideas are controversial. I’m not sure what fraction of philosophers would disagree, or how that fraction would change when considering only theists or only atheists. I’m also not yet sure where I stand, so I think that I need to learn more about epistemology; a first step could be to read the entry in the [Stanford Encyclopedia of Philosophy]( https://plato.stanford.edu/entries/epistemology/)."
   ]
  },
  {
   "cell_type": "markdown",
   "id": "dfc6a287-73f3-4f57-abe8-839a434ca42c",
   "metadata": {},
   "source": [
    "What Oppy writes in this chapter could maybe be boiled down to this: there is no necessary cognitive defect in theists, atheists, or agnostics. All can be reasonable. Although this sounds uncontroversial, I think that many atheists would like to claim that there is something that is not working exactly as it should in the minds of theists, and that many theists would like to claim that there is some cognitive faculty that leads to knowledge of God which is not working correctly in the minds of atheists, for whatever reason. These accusations might sound hostile at first, but I don’t that they are. For imagine that a theist or atheist has an argument that they take to *logically rule out* the existence or non-existence of God. In that case, how can they say that the other person is reasonable to ignore this logic? It’s a good question. Oppy’s main argument in the book is that, currently, there are no such arguments. "
   ]
  },
  {
   "cell_type": "markdown",
   "id": "6cfcca2f-7dad-40c8-98a3-407ea252a2e8",
   "metadata": {},
   "source": [
    "An argument for the non-existence of God that is related to this issue is the problem of divine hiddenness. The problem is that it seems plausible that God would guide all truth-seekers to true beliefs about God if God existed, but that there are genuine truth seekers who don’t believe in God. Perhaps this will come up in future chapters."
   ]
  },
  {
   "cell_type": "markdown",
   "id": "b3bcb0e9-f1ca-407b-8336-9c9a9b661841",
   "metadata": {},
   "source": [
    "{{ 'An infinitesimal is smaller than every number but greater than zero.' | fndetail: 1 }}\n",
    "{{ 'Skeptical theism is the view that we’re not in a position to know God’s thoughts, motives, etc. in any specific situation.' | fndetail: 2 }}\n",
    "{{ 'I’ll have to write a summary of that book, or maybe wait until I read the longer version *Warranted Christian Belief*.' | fndetail: 3 }}"
   ]
  }
 ],
 "metadata": {
  "kernelspec": {
   "display_name": "Python 3",
   "language": "python",
   "name": "python3"
  },
  "language_info": {
   "codemirror_mode": {
    "name": "ipython",
    "version": 3
   },
   "file_extension": ".py",
   "mimetype": "text/x-python",
   "name": "python",
   "nbconvert_exporter": "python",
   "pygments_lexer": "ipython3",
   "version": "3.8.10"
  }
 },
 "nbformat": 4,
 "nbformat_minor": 5
}
