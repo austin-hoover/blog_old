{
 "cells": [
  {
   "cell_type": "code",
   "execution_count": 1,
   "metadata": {},
   "outputs": [],
   "source": [
    "#hide\n",
    "import sys\n",
    "import numpy as np\n",
    "import matplotlib\n",
    "from matplotlib import animation, pyplot as plt\n",
    "import proplot as plot\n",
    "\n",
    "sys.path.append('/Users/46h/Research/code/accphys/')\n",
    "from tools import (\n",
    "    plotting as myplt,\n",
    "    animation as myanim,\n",
    "    utils\n",
    ")\n",
    "plt.rcParams['animation.html'] = 'jshtml'\n",
    "plot.rc['figure.facecolor'] = 'white'\n",
    "plot.rc['savefig.dpi'] = 'figure'"
   ]
  },
  {
   "cell_type": "markdown",
   "metadata": {},
   "source": [
    "# Particle-in-cell simulation\n",
    "> An introduction to electromagnetic PIC solvers\n",
    "\n",
    "- toc: true \n",
    "- badges: false\n",
    "- comments: true\n",
    "- categories: [physics, accelerators, simulation]\n",
    "- image: images/chart-preview.png"
   ]
  },
  {
   "cell_type": "markdown",
   "metadata": {},
   "source": [
    "In my research I utilize [PyORBIT](link), one of many particle-in-cell (PIC) simulation codes for particle accelerators. These codes track a beam of particles though the time-varying electromagnetic fields provided by an accelerator; we call this *external focusing*. In addition to external focusing, there are also *internal* forces to consider caused by the electromagnetic interactions between the beam particles. These are known as *space charge* forces, which refers to the charge density of the beam in free space. Space charge is significant in low-energy, high-intensity machines, so it is very important to be able to predict its effects.\n",
    "\n",
    "The equations of motion of a single particle in the presence of external focusing and space charge are\n",
    "\n",
    "$$\\begin{bmatrix}x \\\\ y\\end{bmatrix}'' = $$"
   ]
  },
  {
   "cell_type": "markdown",
   "metadata": {},
   "source": [
    "## Introduction "
   ]
  },
  {
   "cell_type": "markdown",
   "metadata": {},
   "source": [
    "### Theoretical model "
   ]
  },
  {
   "cell_type": "markdown",
   "metadata": {},
   "source": [
    "For now, we will assume the beam is two-dimensional (2D), meaning we only need to describe its transverse evolution. We can thus think of either point charges in a beam with zero length or infinite line charges; either way "
   ]
  },
  {
   "cell_type": "markdown",
   "metadata": {},
   "source": [
    "We start from [Poisson's equation](https://en.wikipedia.org/wiki/Poisson%27s_equation) for the electric field $\\mathbf{E}$ and the magnetic field $\\mathbf{B}$. The first two equations determine the divergence of these fields from the charge density:\n",
    "\n",
    "$$\\nabla \\cdot {\\mathbf{E}} = \\frac{\\rho}{\\varepsilon_0}$$"
   ]
  },
  {
   "cell_type": "markdown",
   "metadata": {},
   "source": [
    "The \n",
    "\n",
    "$$\\nabla \\cdot {\\mathbf{E}} &= \\frac{\\rho}{\\varepsilon_0}$$\n",
    "$$\\nabla \\cdot {\\mathbf{B}} &= 0$$\n",
    "\n",
    "\n",
    "$$\\nabla \\times {\\mathbf{E}} &= \\frac{\\partial\\mathbf{B}}{\\partial{t}}$$\n",
    "$$\\nabla \\times {\\mathbf{B}} &= \\mu_0\\left({\\mathbf{J} + \\varepsilon_0\\frac{\\partial\\mathbf{E}}{\\partial{t}}}\\right)$$"
   ]
  },
  {
   "cell_type": "markdown",
   "metadata": {},
   "source": [
    "### Computational approach"
   ]
  },
  {
   "cell_type": "markdown",
   "metadata": {},
   "source": [
    "Maxwell"
   ]
  },
  {
   "cell_type": "markdown",
   "metadata": {},
   "source": [
    "## 1D solver "
   ]
  },
  {
   "cell_type": "markdown",
   "metadata": {},
   "source": [
    "## 2D solver "
   ]
  }
 ],
 "metadata": {
  "kernelspec": {
   "display_name": "Python 3",
   "language": "python",
   "name": "python3"
  },
  "language_info": {
   "codemirror_mode": {
    "name": "ipython",
    "version": 3
   },
   "file_extension": ".py",
   "mimetype": "text/x-python",
   "name": "python",
   "nbconvert_exporter": "python",
   "pygments_lexer": "ipython3",
   "version": "3.7.6"
  }
 },
 "nbformat": 4,
 "nbformat_minor": 4
}
