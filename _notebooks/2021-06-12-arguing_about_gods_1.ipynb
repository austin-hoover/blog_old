{
 "cells": [
  {
   "cell_type": "markdown",
   "id": "4fcadf2e-6d80-4c74-86b9-c2e7ad081824",
   "metadata": {},
   "source": [
    "# Arguing About Gods (part 1)\n",
    "> Preliminary Considerations\n",
    "- comments: true\n",
    "- toc: true\n",
    "- badges: false\n",
    "- image: images/arguing.jpg\n",
    "- categories: [theism, arguments]\n",
    "- author: Austin Hoover"
   ]
  },
  {
   "cell_type": "markdown",
   "id": "03757060-a679-4572-90cf-b6d9d9f00613",
   "metadata": {},
   "source": [
    "## Introduction "
   ]
  },
  {
   "cell_type": "markdown",
   "id": "236b2d7e-7d62-4dbe-8a85-b82abd70a29b",
   "metadata": {},
   "source": [
    "I’m currently reading the book *Arguing About Gods* by Graham Oppy, one of the most prominent philosophers of religion. Oppy’s main thesis is that there are no successful arguments for the existence of orthodoxly conceived monotheistic gods, where “orthodoxly conceived monotheistic god” refers to an omnipotent, omniscient, omnibenevolent creator of the world — I’ll take “God” to mean the same thing — and “successful arguments” will be defined later. The book is organized as follows: \n",
    "\n",
    "1.\tPreliminary Considerations\n",
    "2.\tOntological Arguments\n",
    "3.\tCosmological Arguments\n",
    "4.\tTeleological Arguments\n",
    "5.\tPascal’s Wager\n",
    "6.\tArguments from Evil\n",
    "7.\tOther Arguments\n",
    "8.\tConcluding Remarks"
   ]
  },
  {
   "cell_type": "markdown",
   "id": "8a3a9a26-b124-469d-b849-cf8b309a7745",
   "metadata": {},
   "source": [
    "I’m planning to write a post for each of these chapters. In each post, I’ll try to summarize Oppy’s ideas, discuss known challenges to these ideas if I’m aware of them, and record my thoughts and/or questions as they arise {% fn 1 %}. This post will focus on the first chapter."
   ]
  },
  {
   "cell_type": "markdown",
   "id": "3ab35e31-3462-4ac5-b6be-0de617f69f62",
   "metadata": {},
   "source": [
    "Before I begin, I should mention what I hope to achieve during this study. My general goal is to think more carefully about each of the following questions (*G* stands for the question of the existence of God):\n",
    "\n",
    "* How, and on what basis, do I answer *G*?\n",
    "* How confident am I in my answer to *G*? \n",
    "* Could my answer to *G* change in the future?\n",
    "* What is the relationship between my answer to *G* and my other beliefs? \n",
    "* Do I — or should I — treat *G* in the same way as I treat other questions? Why or why not?\n",
    "* How should I understand disagreement about *G* between equally intelligent people?\n",
    "* What role should internal evidence — intuitions, feelings, things I just take to be true — play when forming an answer to *G*?"
   ]
  },
  {
   "cell_type": "markdown",
   "id": "0d9628e1-8fdb-406a-964a-05cc369a915a",
   "metadata": {},
   "source": [
    "I’ll briefly give my current thinking on “How confident am I in my answer to *G*?”. A helpful concept discussed in the book and many other places is that of credence: my credence *x* in a proposition *S* is a value ranging from 0 to 1 which represents how confident I am that *S*. This contrasts with the three traditional responses: belief, disbelief, or withheld judgement. But perhaps it’s too difficult to choose a specific value for *x*; maybe it’s better to choose a credence interval *r* = (*p*, *q*) such that *x* is somewhere within this interval; perhaps *r* = (0.9, 1) if I’m very confident, *r* = (0, 0.1) if I’m not very confident, etc {% fn 2 %}. It’s also still possible to choose a zero-width interval like *r* = (0.33, 0.33). If *S* = “God exists”, then the atheist’s credence interval may be bounded by (0, 0.5), the theist’s by (0.5, 1), and the agnostic’s by (0.5, 0.5). "
   ]
  },
  {
   "cell_type": "markdown",
   "id": "39074cf2-cfe7-41c6-bc88-b6fc4e9a57b7",
   "metadata": {},
   "source": [
    "My inclination is to make *r* quite narrow and centered on 0.5; I don’t think this is a good or bad thing — it’s just how my brain works. I’d be tempted to call this agnosticism. My actual credence interval, however, might be something like (0.45, 0.65). I’m attracted by several arguments for theism, but also by a couple of arguments for atheism. Overall, I’m more convinced by arguments for theism than for atheism, hence the higher upper bound. There are also other issues at play, but that’s the short explanation for my choice. "
   ]
  },
  {
   "cell_type": "markdown",
   "id": "81c1b4d5-f4b7-40b0-bb3d-7bea8fd6a206",
   "metadata": {},
   "source": [
    "It’s hard to know if the numbers I chose are accurate {% fn 3 %}. I mean “accurate” in the following sense: maybe I would choose an interval with a different width or mean if a gun was held to my head or if I thought about the question in more depth. I’ll hopefully have an improved credence interval by the end of this study. This may sound strange: why not change my interval if I don’t think it’s accurate? Part of the reason is that I’ve only recently begun to consider credence and belief as distinct, so I’d like to think more about how I’m choosing my interval. For example, what is my credence interval for the proposition “I won’t die at an early age”, and how does this relate to my belief that I won’t die at an early age? I’m also expecting my interval to shift as I think more about *G*.\n",
    "\n",
    "I’ll now move on to summarizing and commenting on the four sections of this first chapter."
   ]
  },
  {
   "cell_type": "markdown",
   "id": "eb4709c9-b6d4-428b-adf9-e10f95476df7",
   "metadata": {},
   "source": [
    "## Arguments about the existence of monotheistic gods"
   ]
  },
  {
   "cell_type": "markdown",
   "id": "68ef0a38-4dd0-4534-b0d4-6ea9a214a0c2",
   "metadata": {},
   "source": [
    "This section explains how the various arguments for and against the existence of God have been organized in the book. First, ontological arguments appeal to reason alone. Second, cosmological arguments appeal to necessary features of the world.  Third, teleological arguments appeal to contingent features of the world. Fourth, moral arguments appeal to the moral structure of the world. Fifth, arguments such as Pascal’s wager simply claim that belief in God is rational. Sixth, there are also “minor” arguments such as the argument from consciousness or the argument from beauty. Finally, there are arguments from personal religious experience, corporate religious experience, etc. "
   ]
  },
  {
   "cell_type": "markdown",
   "id": "d8956a2f-8319-48b4-9b83-c3eca9cc5255",
   "metadata": {},
   "source": [
    "An interesting point is made about cumulative arguments. If there is a set of *n* arguments, all with the same conclusion, is the entire set stronger than any of the individual members? Not necessarily. For example, all the arguments could be strong except for one, which is circular; in this case, a mega-argument formed from all the arguments in the set would also be circular and hence weaker than any of the strong arguments in isolation. The mega-argument could be stronger than any individual argument if the arguments are viewed probabilistically, i.e., each argument uses some evidence to raise or lower the probability of its conclusion. Oppy doesn’t like this idea; he notes that each argument only considers a carefully selected portion of the full body of evidence and that the correct thing to do is to consider all the evidence at once. Discussion is left for later chapters."
   ]
  },
  {
   "cell_type": "markdown",
   "id": "2cbc2f69-9171-45b4-9ee0-d96db8a38349",
   "metadata": {},
   "source": [
    "Alexander Pruss raises the following problems with this treatment of cumulative arguments in his [review](https://ndpr.nd.edu/reviews/arguing-about-gods/). Suppose each argument has one premise that could be rejected by a reasonable person who holds a particular view —a moral realist will reject this premise, a materialist will reject that premise, etc. But unless each premise could be rejected on the same grounds, it doesn’t follow that a single person could hold all these views at the same time without contradictions. Another issue: maybe I assign a small probability of 0.1 to the truth of each of the *n* rejected premises. The probability that every premise is true is $0.1^n$, but the probability that every premise is false is $0.9^n$; the latter could become small. Pruss is also critical of Oppy’s suggestion that all the evidence must be considered at the same time if arguments are viewed probabilistically; instead, only the evidence relevant to a given statement is required to evaluate that statement. I’m keen to align with Pruss here. "
   ]
  },
  {
   "cell_type": "markdown",
   "id": "550fdabc-e58b-4889-9ae1-00bca7f662de",
   "metadata": {},
   "source": [
    "## Arguments"
   ]
  },
  {
   "cell_type": "markdown",
   "id": "70db4bbe-81fd-409b-ac54-5dddc9a7e72e",
   "metadata": {},
   "source": [
    "This section discusses what makes arguments successful. Oppy says this requires “(1) an account of rationality and rational belief revision, (2) an account of arguments, (3) an account of rational argumentation amongst rational agents, and (4) an account of the difficulties that arise as a result of the fact that we are not perfectly rational agents”."
   ]
  },
  {
   "cell_type": "markdown",
   "id": "34ba20b2-bba3-4f9d-bfbc-bafbcaa221fb",
   "metadata": {},
   "source": [
    "It’s claimed that it’s possible for two perfectly rational people to disagree even if they have access to the same evidence. This seems wrong at first. The reasoning is: 1) the order in which the evidence is processed might be important, 2) there is a limit to how much information can be stored in a person’s mind at one time, and further 3) it could be argued that we generally make decisions in a Bayesian sense, evaluating the probability of the evidence given a set of prior probabilities or prior beliefs. In this way, every new belief is formed against the background of other beliefs. If this is true of perfectly rational people, then, of course, we can expect disagreement between less-than-perfectly rational people. "
   ]
  },
  {
   "cell_type": "markdown",
   "id": "8b92c9f7-bf72-4ef1-ba89-b5d5b7ece7b4",
   "metadata": {},
   "source": [
    "It's also claimed that the point of arguments is to cause reasonable belief revision {% fn 4 %}. The following definition of a successful argument is given:\n",
    "\n",
    "> The most successful argument would be one that succeeds — or perhaps would or ought to succeed — in persuading any reasonable person to accept its conclusion; good, but less successful arguments would succeed — or perhaps would or ought to succeed — in persuading a non-zero percentage of reasonable people to accept their conclusions. \n",
    "\n",
    "Thus, successful arguments are extremely difficult to form. Imagine I’m trying to change Alice’s mind. I should form an argument whose conclusion follows from premises Alice already believes; I’ll otherwise need to convince Alice of the premises using separate arguments. There’s nothing inherently wrong with this, but we may eventually reach beliefs for which there are no appeals to other beliefs for justification, and there is no hope of changing Alice’s mind if we disagree about those, at least not using arguments. If this view is correct, then arguments might not be the best way to persuade other reasonable people. "
   ]
  },
  {
   "cell_type": "markdown",
   "id": "7e21b24c-836e-4c05-a3f5-d09de160bcdf",
   "metadata": {},
   "source": [
    "That it’s difficult to change the mind of a reasonable person is further supported by observing myself. I remember having long (friendly, non-serious) debates with my friends in college about various topics. I recall that, in some of these discussions, I didn’t even have a strong opinion on the topic beforehand. Yet, it was quite difficult to change the belief I formed at the beginning of the debate. I would think: “I formed this belief five minutes ago based on my intuition, and my intuition is infallible!” In hindsight, I was wrong some of the time and my arguments were likely weak. The fact that I had a strong resistance to changing my beliefs, even though I had very little to lose by giving them up, demonstrates that it would be difficult to change my mind about my core beliefs using arguments alone. "
   ]
  },
  {
   "cell_type": "markdown",
   "id": "5a1a96a5-b238-4493-8a83-02531a892b44",
   "metadata": {},
   "source": [
    "There are some questions about this view of successful arguments. Notice the phrase “would or ought to succeed”. Suppose there’s a premise *h* that any reasonable person would or ought to accept. I take “would” to mean that Austin would accept *h* if he had a certain set of priors and if his reasoning faculties were functioning correctly, and I take “ought” to mean that Austin ought to accept *h* since he has a certain set of priors and since his reasoning faculties are functioning correctly. One question is whether there are constraints on a reasonable person’s priors. On this, Oppy writes:\n",
    "\n",
    "> I am not committing myself to the claim that there are no substantive constraints on ‘priors’ — it may be that there are quite severe constraints on reasonable sets of ‘priors’; however, I am claiming that I can see no reason at all for thinking that there is a unique set of ‘priors’ that any reasonable person must have on pain of conviction of irrationality."
   ]
  },
  {
   "cell_type": "markdown",
   "id": "f27ea498-8e9d-4857-96f6-18d5386fe904",
   "metadata": {},
   "source": [
    "How can we know that Austin’s priors obey these constraints? Pruss has some things say about a related issue in the beginning of his review.\n",
    "\n",
    "I also want to mention a potential problem for theists who accept that there can be disagreement about God betweeen reasonable truth-seeking people. This is the problem of divine hiddenness: it seems plausible that God would guide all reasonable truth-seekers to true beliefs about God if God existed, but there are reasonable truth seekers who don’t believe in God. Perhaps this will come up in future chapters."
   ]
  },
  {
   "cell_type": "markdown",
   "id": "dd022a9c-bc8d-4792-804b-2a7c3fd06fc3",
   "metadata": {},
   "source": [
    "## Some considerations about agnosticism"
   ]
  },
  {
   "cell_type": "markdown",
   "id": "04850da9-e48d-4574-9e5d-fcf045b63a93",
   "metadata": {},
   "source": [
    "In this section, Oppy distinguishes between weak agnosticism and strong agnosticism. He then argues that strong agnosticism fails, but that weak agnosticism is acceptable. The strong agnostic’s view can be summarized as:\n",
    "\n",
    "1.\tIn circumstances in which the available evidence no more — and no less — supports $p$ than it supports logically incompatible hypotheses $p_1$, $\\dots$, $p_n$, $\\dots$, one ought to suspend judgment between $p$, $p_1$, $\\dots$, $p_n$, $\\dots$ as well as the hypothesis that $p$ is false.\n",
    "2.\tThere are infinitely many God hypotheses, none of which are more likely than the others given the available evidence (e.g., a god who is not quite omniscient, a god who is not quite omnipotent, two gods rather than one, etc.). \n",
    "3.\tIt is neither rational to believe that God exists, nor to believe that God does not exist.\n",
    "\n",
    "Let’s start with (1). It wasn’t obvious to me why we shouldn’t think that *p* is false in this case. There is, however, a paradox that might illustrate the reason. Consider a lottery with infinitely many tickets. I shouldn’t believe that my ticket is the winner since the probability is infinitesimal {% fn 5 %}. But I should think this about each ticket, which amounts to believing that *no* ticket is the winner — a false belief. So, I should neither believe nor disbelieve that any particular ticket is the winner (that God exists). "
   ]
  },
  {
   "cell_type": "markdown",
   "id": "c45200bf-e1fc-416e-abde-75d8eb64cfb2",
   "metadata": {},
   "source": [
    "So, (1) seems to make sense; however, there is a major problem: believing (1) could make it very difficult to avoid skepticism about basic things like the reality of my perceived world. Consider my belief that I am not a brain in a vat (BIV). On what basis do I believe this? My belief can’t be based on external evidence because the BIV hypothesis explains this evidence just as well as the alternative. Rather, it must be due to some internal evidence; in other words, the belief is basic. "
   ]
  },
  {
   "cell_type": "markdown",
   "id": "48ec8835-044f-4ec8-afad-2a7b7bed07b8",
   "metadata": {},
   "source": [
    "If I accept that some beliefs are basic and accept the principle that it’s best to keep a belief unless there is some good reason to give it up (Oppy calls this “methodological conservatism”), then I have good reason to believe I’m not a BIV. The strong agnostic doesn’t agree with this and seems forced to suspend judgment on whether they are a BIV. The same would go for the belief that I didn’t pop into existence two seconds ago, and so on. "
   ]
  },
  {
   "cell_type": "markdown",
   "id": "462289cd-64d2-416a-9ced-e8308163a2ee",
   "metadata": {},
   "source": [
    "The strong agnostic needs to make some distinction between the God hypotheses and the cases involving extreme skepticism; however, there’s no clear way to do this. Oppy notes that the best approach is probably to say that my skepticism about the external world requires me to believe I’m special — somehow, I’m the only real thing in my perceived world — and that this gives me a reason to reject my skepticism. Call this the “I’m special” consideration ISC. However, Oppy proceeds, if the strong atheist concedes that the ISC is required to distinguish between these cases, then they have conceded that external evidence is not the only thing that can support reasonable beliefs, for the reason why the ISC should count against the truth of a belief is not clear from external evidence even though it may be clear to the strong agnostic. So, the problem is not that the strong agnostic is unreasonable for liking the ISC, it’s that they might be forced to choose between extreme skepticism and admitting that theists and atheists can be reasonable. In other words, the strong agnostic cannot believe (3) and the following statement at the same time:   \n",
    "\n",
    "<ol start=\"4\">\n",
    "  <li>It is possible to characterize a suitable notion of evidential support that does not rely upon a relativization to background assumptions.</li>\n",
    "</ol>\n",
    "\n",
    "This last view — suspending belief or non-belief in God while recognizing that this is not the only reasonable way to proceed — is weak agnosticism. "
   ]
  },
  {
   "cell_type": "markdown",
   "id": "aa6c22e7-bdc3-4f57-9794-990d08ecee16",
   "metadata": {},
   "source": [
    "## Alternative deities"
   ]
  },
  {
   "cell_type": "markdown",
   "id": "0798d68b-dfb5-4ab8-bbf4-130caac04dfc",
   "metadata": {},
   "source": [
    "The final section of this chapter considers the arguments for alternative deities like God\\*. God\\* is exactly like God but is completely evil. The thought is that the arguments for God work just as well for God\\*. For example, one way to respond to the problem of evil is to adopt skeptical theism {% fn 6 %}, and it seems that this view could also be used as a defense of God\\*. Any arguments for which this applies would then seem to be ineffective as attacks against non-theists. A further step would be to claim that there is no way to choose God over God\\*, and that theists should therefore give up their belief in God.  \n",
    "\n",
    "If one thinks that moral facts exist and can be known, which I think I do, then the following critique will be convincing. An omniscient being would know all moral facts, but it’s impossible to believe that an action is wrong without being inclined to refrain from performing that action, i.e., I couldn’t know that murder is wrong but have no problem carrying out murder myself. Therefore, God\\* is logically impossible. \n",
    "\n",
    "If God\\* is off the table, then God’ could be introduced. God’ is as close to God\\* as possible: completely evil, but not quite omniscient. Again, the arguments for God seem to work for God’. If the idea of God’ is shown to be incoherent, maybe we could think of God’’, God’’’, God#, etc. Oppy thinks these alternative deities could be useful to the non-theist as a defense, but not as an attack. This is because the theist likely has a set of prior beliefs that make an orthodoxly conceived monotheistic god seem the most likely to them even if they accept that some arguments don’t nail down God’s moral character. In general, it’s supposed that we shouldn’t be forced to give up a belief just because we recognize the existence of alternatives that seem just as good to an outside observer. "
   ]
  },
  {
   "cell_type": "markdown",
   "id": "2cf28726-e880-4dc0-9cb9-95487567a92d",
   "metadata": {},
   "source": [
    "## Conclusion\n",
    "\n",
    "This chapter was primarily about epistemology. I haven’t thought much about this topic — almost not at all before recently reading Alvin Plantinga’s *Knowledge and Christian Belief* — and I think that articulating my epistemological views is necessary to answer the questions I listed at the beginning of this post. A good first step might be to read the relevant entry in the [Stanford Encyclopedia of Philosophy]( https://plato.stanford.edu/entries/epistemology/). \n",
    "\n",
    "I’m looking forward to the remaining chapters in the book in which specific arguments for the existence of God are examined. "
   ]
  },
  {
   "cell_type": "markdown",
   "id": "01994d94-65fb-4aa2-97ae-3bfedfc347fd",
   "metadata": {},
   "source": [
    "<hr>\n",
    "\n",
    "{{ 'I won’t use direct quotes very often; hopefully it’s clear when I’m paraphrasing the book vs. discussing the book.' | fndetail: 1 }}\n",
    "\n",
    "{{ 'I probably shouldn’t choose [0, *q*) or (*p*, 1]; in this case, I would possibly think there is *zero* chance that *S* is true (or false).' | fndetail: 2 }}\n",
    "\n",
    "{{ 'Some argue that credences don’t exist in reality; see [this paper](https://onlinelibrary.wiley.com/doi/10.1111/phc3.12668) by Liz Jackson.' | fndetail: 3 }}\n",
    "\n",
    "{{ 'Oppy switches from “rational” to “reasonable”, and I’m sometimes confused by the difference.' | fndetail: 4 }}\n",
    "\n",
    "{{ 'An infinitesimal is smaller than every number but greater than zero' | fndetail: 5 }}\n",
    "\n",
    "{{ 'Skeptical theism is the view that we’re not in a position to know God’s thoughts, motives, etc. in any specific situation.' | fndetail: 6 }}"
   ]
  }
 ],
 "metadata": {
  "kernelspec": {
   "display_name": "Python 3 (ipykernel)",
   "language": "python",
   "name": "python3"
  },
  "language_info": {
   "codemirror_mode": {
    "name": "ipython",
    "version": 3
   },
   "file_extension": ".py",
   "mimetype": "text/x-python",
   "name": "python",
   "nbconvert_exporter": "python",
   "pygments_lexer": "ipython3",
   "version": "3.9.7"
  }
 },
 "nbformat": 4,
 "nbformat_minor": 5
}
