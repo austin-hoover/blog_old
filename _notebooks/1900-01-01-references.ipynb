{
 "cells": [
  {
   "cell_type": "markdown",
   "metadata": {},
   "source": [
    "# References\n",
    "- toc: true \n",
    "- badges: false\n",
    "- comments: true"
   ]
  },
  {
   "cell_type": "markdown",
   "metadata": {},
   "source": [
    "The following are some references which I think are helpful. Any suggestions are encouraged in the comments."
   ]
  },
  {
   "cell_type": "markdown",
   "metadata": {},
   "source": [
    "### Accelerator physics\n",
    "* [Accelerator Physics](https://www.worldscientific.com/worldscibooks/10.1142/8335) — Lee\n",
    "* [Introduction to the Physics of High Energy Accelerators](https://www.amazon.com/Introduction-Physics-High-Energy-Accelerators/dp/0471551635) — Edwards/Syphers\n",
    "* [Measurement and Control of Charged Particle Beams](https://www.springer.com/gp/book/9783540441878t) — Minty/Zimmerman\n",
    "* [Particle Accelerator Physics](https://www.springer.com/gp/book/9783540490456) — Wiedemann\n",
    "* [Space Charge Physics for Particle Accelerators](https://link.springer.com/book/10.1007/978-3-319-62157-9) — Hofmann"
   ]
  },
  {
   "cell_type": "markdown",
   "metadata": {},
   "source": [
    "### Machine learning\n",
    "* [Neural Networks and Deep Learning](http://neuralnetworksanddeeplearning.com) — Nielsen\n",
    "* [Pattern Recognition and Machine Learning](https://www.amazon.com/Pattern-Recognition-Learning-Information-Statistics/dp/0387310738) — Bishop"
   ]
  },
  {
   "cell_type": "markdown",
   "metadata": {},
   "source": [
    "### Mathematics\n",
    "* [Mathematics of Classical and Quantum Physics](https://www.amazon.com/Mathematics-Classical-Quantum-Physics-Dover/dp/048667164X) — Byron/Fuller\n",
    "* [Mathematical Methods for Physicists](https://www.amazon.com/Mathematical-Methods-Physicists-Comprehensive-Guide/dp/0123846544) — Arfken/Weber"
   ]
  },
  {
   "cell_type": "markdown",
   "metadata": {},
   "source": [
    "### Physics core\n",
    "* [Classical Mechanics](https://www.amazon.com/Classical-Mechanics-John-R-Taylor/dp/189138922X) — Taylor\n",
    "* [Classical Mechanics](https://www.amazon.com/Classical-Mechanics-3rd-Herbert-Goldstein/dp/0201657023) — Goldstein\n",
    "* [Introduction to Electrodynamics](https://www.amazon.com/Introduction-Electrodynamics-David-J-Griffiths/dp/1108420419) — Griffiths\n",
    "* [Introduction to Thermal Physics](https://www.amazon.com/Introduction-Thermal-Physics-Daniel-Schroeder/dp/0201380277) — Schroeder\n",
    "* [Quantum Mechanics: Concepts and Applications](https://www.amazon.com/Quantum-Mechanics-Applications-Nouredine-Zettili/dp/0470026790) — Zettili\n",
    "* [Statistical Physics of Particles](https://www.amazon.com/Statistical-Physics-Particles-Mehran-Kardar/dp/0521873428#customerReviews) — Kardar"
   ]
  },
  {
   "cell_type": "markdown",
   "metadata": {},
   "source": [
    "### Programming\n",
    "* [Algorithms](https://www.amazon.com/dp/032157351X/ref=cm_sw_em_r_mt_dp_KS6HQWZ5R3MSDS71Z3RE?_encoding=UTF8&psc=1) — Sedgewick/Wayne \n",
    "* [Elements of Programming Interviews in Python](https://www.amazon.com/Elements-Programming-Interviews-Insiders-Guide/dp/1479274836) — Aziz/Lee/Prakash"
   ]
  }
 ],
 "metadata": {
  "kernelspec": {
   "display_name": "Python 3",
   "language": "python",
   "name": "python3"
  },
  "language_info": {
   "codemirror_mode": {
    "name": "ipython",
    "version": 3
   },
   "file_extension": ".py",
   "mimetype": "text/x-python",
   "name": "python",
   "nbconvert_exporter": "python",
   "pygments_lexer": "ipython3",
   "version": "3.7.6"
  }
 },
 "nbformat": 4,
 "nbformat_minor": 4
}
