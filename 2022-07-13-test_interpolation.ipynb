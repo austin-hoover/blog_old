{
 "cells": [
  {
   "cell_type": "markdown",
   "id": "fc2001b3-f0cc-420d-a505-24a734d5750f",
   "metadata": {},
   "source": [
    "# Linear interpolation of semi-structured data in three and five dimensions"
   ]
  },
  {
   "cell_type": "markdown",
   "id": "3113b288-cec9-4d03-be08-690416c268f6",
   "metadata": {},
   "source": [
    "I recently encountered a problem in which billions of points needed to be linearly interpolated onto a [regular grid](https://en.wikipedia.org/wiki/Regular_grid) in five-dimensional (5D) space. I found that the task is infeasible for a large number of points in an unstructured data set since the time-complexity of Delauny triangulation is O(...). In my case, the data is already on a grid in some dimensions, but the grids are tilted: calling the variables $\\left\\{x_1, x_2, x_3, x_4, x_5\\right\\}$, $x_1$-$x_2$ and $x_3$-$x_4$ are on tilted grids while $x_5$ is unstructured. I will call this data *semi-structured*. (Is there a better word for this?)\n",
    "\n",
    "Such a data set can be interpolated onto a regular 5D grid without running a 5D interpolation:\n",
    "1. Interpolate $x_5$ for each $\\left\\{x_1, x_2, x_3, x_4\\right\\}$ to get $\\tilde{x}_5$, where the tilde represents that the coordinate is on a regular grid.\n",
    "2. Interpolate $x_2$-$x_3$ for each $\\left\\{x_3, x_4, \\tilde{x}_5\\right\\}$ to get $\\tilde{x}_5$ and $\\tilde{x}_5$.\n",
    "3. Interpolate $x_3$-$x_4$ for each $\\left\\{\\tilde{x}_1, \\tilde{x}_2, \\tilde{x}_5\\right\\}$ to get $\\tilde{x}_3$ and $\\tilde{x}_4$."
   ]
  },
  {
   "cell_type": "markdown",
   "id": "35db078b-68ae-4921-89d5-3b83974f2498",
   "metadata": {},
   "source": [
    "Although this seemed like the correct approach, I needed to check that it would work on artificially generated data."
   ]
  },
  {
   "cell_type": "markdown",
   "id": "a9a15b2b-e122-4dce-b29b-934f46676601",
   "metadata": {},
   "source": [
    "## Background: Delauney triangulation "
   ]
  },
  {
   "cell_type": "markdown",
   "id": "61520d30-9ce5-4687-ae4b-b2007de36e16",
   "metadata": {},
   "source": [
    "The time-complexity of Delauney triangulation for $n$ points in $d$-dimensional space is something like $O(n \\log n)$ when $d \\le 3$. The situation is much worse when $d > 3$; it was been shown that the worst-scase time-complexity is $O(n^{d/2})$ [cite Change: A Polynomial Time Algorithm for Multivariate Interpolation in Arbitrary Dimension via the Delaunay Triangulation], and that typical cases still scale exponentially."
   ]
  },
  {
   "cell_type": "code",
   "execution_count": null,
   "id": "8f1fbb75-86eb-4e5e-ba57-effc3e370d81",
   "metadata": {},
   "outputs": [],
   "source": [
    "import sys\n",
    "import time\n",
    "import numpy as np\n",
    "from scipy import interpolate\n",
    "from scipy import ndimage\n",
    "from matplotlib import pyplot as plt\n",
    "from matplotlib import animation\n",
    "import proplot as pplt\n",
    "from tqdm import tqdm\n",
    "from tqdm import trange\n",
    "\n",
    "import utils_2022_07_13 as utils\n",
    "\n",
    "pplt.rc['animation.html'] = 'jshtml'\n",
    "pplt.rc['cmap.discrete'] = False\n",
    "pplt.rc['cmap.sequential'] = 'viridis'\n",
    "pplt.rc['grid'] = False\n",
    "pplt.rc['figure.facecolor'] = 'white'\n",
    "pplt.rc['savefig.dpi'] = 'figure'"
   ]
  },
  {
   "cell_type": "code",
   "execution_count": null,
   "id": "a1bf4eaa-52ac-48c9-821b-deff98e0d6c8",
   "metadata": {},
   "outputs": [],
   "source": [
    "#hide\n",
    "state = np.random.RandomState()\n",
    "state.seed(0)"
   ]
  },
  {
   "cell_type": "markdown",
   "id": "a873100c-7f7f-4073-a1ef-c8a94df7faf7",
   "metadata": {},
   "source": [
    "## 3D testing "
   ]
  },
  {
   "cell_type": "markdown",
   "id": "09ed150b-710e-4877-96a7-805d4da7a3d3",
   "metadata": {},
   "source": [
    "First, I will test this method on a 3D dataset, for which only steps 1 and 2 are necessary."
   ]
  },
  {
   "cell_type": "code",
   "execution_count": null,
   "id": "a6731d72-7b90-40e8-96f6-c4a82b4b81f2",
   "metadata": {},
   "outputs": [],
   "source": [
    "ndim = 3  # number of dimensions\n",
    "n = 40  # grid points per dimension\n",
    "shape = tuple(ndim * [n])\n",
    "labels = [r'$x_{}$'.format(i + 1) for i in range(ndim)]\n",
    "\n",
    "# Create \"normalized\" coordinate arrays\n",
    "xmax = 4.0  \n",
    "coords_n = [np.linspace(-xmax, xmax, shape[i]) for i in range(ndim)]\n",
    "COORDS_n = np.meshgrid(*coords_n, indexing='ij')\n",
    "\n",
    "# Tilt the x1-x2 grid.\n",
    "tilt = 0.5\n",
    "x1_n, x2_n, x3_n = coords_n\n",
    "X1_n, X2_n, X3_n = COORDS_n\n",
    "X1 = X1_n + tilt * X2_n\n",
    "X2 = X2_n\n",
    "X3 = X3_n\n",
    "\n",
    "# Randomize the spacing of the x3 coordinates for each x1 and x2.\n",
    "noise = 0.02\n",
    "X3 = np.zeros(shape)\n",
    "for i in range(shape[0]):\n",
    "    for j in range(shape[1]):\n",
    "        X3[i, j, :] = X3_n[i, j, :] * np.random.uniform(1.0 - noise, 1.0 + noise, shape[2])\n",
    "        X3[i, j, :] = np.sort(X3[i, j, :])\n",
    "COORDS = [X1, X2, X3]"
   ]
  },
  {
   "cell_type": "code",
   "execution_count": null,
   "id": "de472b29-09a8-4445-b13c-0243f118b4e1",
   "metadata": {},
   "outputs": [],
   "source": [
    "#hide_input\n",
    "fig, axes = pplt.subplots(nrows=3, ncols=3, figwidth=5, spanx=False, spany=False)\n",
    "for i in range(3):\n",
    "    for j in range(3):\n",
    "        axes[i, j].scatter(COORDS[j].ravel(), COORDS[i].ravel(), \n",
    "                           color='black', s=0.1, alpha=0.5)\n",
    "    axes[i, 0].format(ylabel=dims[i])\n",
    "    axes[-1, i].format(xlabel=dims[i])\n",
    "axes.format(suptitle='2D views of the grid points', suptitle_kw=dict(fontweight='normal'))\n",
    "plt.show()"
   ]
  },
  {
   "cell_type": "markdown",
   "id": "da095b62-8a3d-446d-aceb-a1af83b69c55",
   "metadata": {},
   "source": [
    "Define a random function on the skewed grid."
   ]
  },
  {
   "cell_type": "code",
   "execution_count": null,
   "id": "30e7b7f1-0598-4586-b242-81d998fe0887",
   "metadata": {},
   "outputs": [],
   "source": [
    "def func(X1, X2, X3, tilt=1.0, cut=None, sigma=1.0):\n",
    "    R = np.sqrt(X1**2 + X2**2 + X3**2)\n",
    "    A = np.abs(np.sin(2.0 * R))**2\n",
    "    f = A * np.exp(-0.5 * (R**2 - tilt*X1*X2 + 0.2*X1*X3 + 2.0*X2*X3))\n",
    "    if cut is not None:\n",
    "        f[R > cut] = 0.0\n",
    "    f = ndimage.gaussian_filter(f, sigma=sigma)\n",
    "    f = f / np.sum(f)\n",
    "    return f\n",
    "\n",
    "f = func(X1, X2, X3, tilt=tilt, cut=xmax)"
   ]
  },
  {
   "cell_type": "markdown",
   "id": "ab6d339e-0b6b-4043-b554-9ef0bee1a9ea",
   "metadata": {},
   "source": [
    "Here are some of the $x_1$-$x_2$ projections as $x_3$ is varied. "
   ]
  },
  {
   "cell_type": "code",
   "execution_count": null,
   "id": "99c9997d-ed81-413d-9b58-79f96ed9a9ec",
   "metadata": {},
   "outputs": [],
   "source": [
    "#collapse\n",
    "kk = np.linspace(0, shape[2] - 1, 10).astype(int)\n",
    "vmax = np.max(f[:, :, kk])\n",
    "vmin = np.min(f[:, :, kk])\n",
    "\n",
    "fig, axes = pplt.subplots(ncols=5, nrows=2, figwidth=7.0)\n",
    "for k, ax in zip(kk, axes):\n",
    "    ax.pcolormesh(X1[:, :, k].T, X2[:, :, k].T, f[:, :, k].T,\n",
    "                  vmin=vmin, vmax=vmax, ec='None')\n",
    "    ax.format(xlabel=labels[0], ylabel=labels[1])\n",
    "    ax.set_title(r'$x_3$ = {:.2f}'.format(X3[0, 0, k]), fontsize='medium')\n",
    "axes.format(xticks=[], yticks=[])"
   ]
  },
  {
   "cell_type": "markdown",
   "id": "430b474f-1a8d-4132-bec3-bec143421a32",
   "metadata": {},
   "source": [
    "Define the a regular grid on which to interpolate. Since the grid is tilted, it makes sense to increase the resolution along the $x_1$ axis."
   ]
  },
  {
   "cell_type": "code",
   "execution_count": null,
   "id": "a712780c-79ca-4996-a081-c1b1a7278499",
   "metadata": {},
   "outputs": [],
   "source": [
    "new_shape = tuple(np.multiply(shape, [1.5, 1.0, 1.1]).astype(int))\n",
    "new_coords = [np.linspace(COORDS[i].min(), COORDS[i].max(), new_shape[i]) \n",
    "              for i in range(ndim)]"
   ]
  },
  {
   "cell_type": "markdown",
   "id": "e578e548-8ffc-41f8-a926-65b13049adc6",
   "metadata": {},
   "source": [
    "Let's test the interpolation on a 2D slice of the 3D array. The red dots on the left plot show the points on the interpolation grid."
   ]
  },
  {
   "cell_type": "code",
   "execution_count": null,
   "id": "45508faf-47d8-4496-a2fa-bc89521c3530",
   "metadata": {},
   "outputs": [],
   "source": [
    "def normalize(f):\n",
    "    f = np.clip(f, 0.0, None)\n",
    "    f = f / np.sum(f)\n",
    "    return f\n",
    "\n",
    "idx = (slice(None), slice(None), shape[2] // 2)\n",
    "points = (X1[idx].ravel(), X2[idx].ravel())\n",
    "values = f[idx].ravel()\n",
    "new_points = tuple([C.ravel() for C in np.meshgrid(*new_coords[:2], indexing='ij')])\n",
    "grid_kws = dict(method='linear', fill_value=0.0)\n",
    "new_values = interpolate.griddata(points, values, new_points, **grid_kws)\n",
    "f2d = new_values.reshape(new_shape[0], new_shape[1])\n",
    "f2d = normalize(f2d)\n",
    "\n",
    "fig, axes = pplt.subplots(ncols=2)\n",
    "axes[0].pcolormesh(X1[idx].T, X2[idx].T, f[idx].T)\n",
    "axes[1].pcolormesh(new_coords[0], new_coords[1], f2d.T)\n",
    "for i in range(len(new_coords[0])):\n",
    "    for j in range(len(new_coords[1])):\n",
    "        axes[0].scatter(new_coords[0][i], new_coords[1][j], color='red', ec='None', s=0.5)\n",
    "axes.format(xlabel=labels[0], ylabel=labels[1], toplabels=['Initial', 'Interpolated'])\n",
    "plt.show()"
   ]
  },
  {
   "cell_type": "markdown",
   "id": "af22694b-68d6-4538-a181-0444f942d23a",
   "metadata": {},
   "source": [
    "### Method A: 3D interpolation"
   ]
  },
  {
   "cell_type": "markdown",
   "id": "5b695f48-cb31-4b1e-9d89-dbfbf1624cae",
   "metadata": {},
   "source": [
    "Direct 3D interpolation using `scipy.griddata` — fitting a function of three variables to the data — does not take too long in this case; this will be our benchmark."
   ]
  },
  {
   "cell_type": "code",
   "execution_count": null,
   "id": "ec83546d-fb6f-42be-a550-4375088c8fc2",
   "metadata": {},
   "outputs": [],
   "source": [
    "start_time = time.time()\n",
    "\n",
    "points = tuple([C.ravel() for C in COORDS])\n",
    "values = f.ravel()\n",
    "new_points = tuple([C.ravel() for C in np.meshgrid(*new_coords, indexing='ij')])\n",
    "new_values = interpolate.griddata(points, values, new_points, **grid_kws)\n",
    "f_new_3d = normalize(new_values.reshape(new_shape))\n",
    "\n",
    "print(f'{(time.time() - start_time):2f} sec')"
   ]
  },
  {
   "cell_type": "markdown",
   "id": "ac9093e3-5f3e-4bd9-9cba-7ae96dcc33fb",
   "metadata": {},
   "source": [
    "### Method B: 1D + 2D interpolation"
   ]
  },
  {
   "cell_type": "markdown",
   "id": "9c7e14d9-5cbb-433f-9890-f9b7d0ba3099",
   "metadata": {},
   "source": [
    "As described above, we don't need to perform the full 3D interpolation; we can take advantage of the original grid structure. First, interpolate over $x_3$ for each ($x_1$-$x_2$), storing the result in `_f`."
   ]
  },
  {
   "cell_type": "code",
   "execution_count": null,
   "id": "5536e9db-7865-4919-aef1-36b80362e347",
   "metadata": {},
   "outputs": [],
   "source": [
    "start_time = time.time()\n",
    "\n",
    "_f = np.copy(f)\n",
    "f_new = np.zeros((shape[0], shape[1], new_shape[2]))\n",
    "new_points = new_coords[2]\n",
    "for i in range(shape[0]):\n",
    "    for j in range(shape[1]):\n",
    "        points = X3[i, j, :]\n",
    "        values = _f[i, j, :]\n",
    "        f_new[i, j, :] = interpolate.griddata(points, values, new_points, **grid_kws)\n",
    "        \n",
    "print(f'{(time.time() - start_time):2f} sec')"
   ]
  },
  {
   "cell_type": "markdown",
   "id": "78514c1b-bd27-48fd-b0d2-1753155593c2",
   "metadata": {},
   "source": [
    "We now need to make new coordinate arrays. All that we need to do is copy the existing $x_1$ and $x_2$ grids into the third dimension, then copy the $\\tilde{x}_3$ grid into the first and second dimensions."
   ]
  },
  {
   "cell_type": "code",
   "execution_count": null,
   "id": "73f45d78-cf7c-4242-b056-d0c0b89b105a",
   "metadata": {},
   "outputs": [],
   "source": [
    "def copy_into_new_dim(array, shape, axis=-1, method='broadcast'):\n",
    "    \"\"\"Copy an array into one or more new dimensions.\n",
    "        \n",
    "    Parameters\n",
    "    ----------\n",
    "    array : ndarray\n",
    "        The array to copy.\n",
    "    shape : tuple\n",
    "        The shape of the copied array in the new dimensions. Example: if `shape=(2, 3)`\n",
    "        and `array.shape=(4, 5)`, the shape of the output array could be (2, 3, 4, 5). \n",
    "    axis : int\n",
    "        Where to copy the array. If 0, the copies will go \"behind\" the array; if -1,\n",
    "        the copies will go \"in front\" of the array. I haven't tried anything else. For\n",
    "        example, if `shape=(2, 3)` and `array.shape=(4, 5)` and `axis=0`, the shape \n",
    "        of the output array will be (4, 5, 2, 3). If `axis=1`, the the shape of the\n",
    "        output array will be (2, 3, 4, 5). \n",
    "    method : {'broadcast', 'repeat'}\n",
    "        The 'broadcast' method is faster since it works with views instead of copies. \n",
    "        See 'https://stackoverflow.com/questions/32171917/how-to-copy-a-2d-array-into-a-3rd-dimension-n-times'\n",
    "    copy : bool\n",
    "        If `method='broadcast'`, whether to return a view or copy.\n",
    "    \"\"\"\n",
    "    if type(shape) in [int, np.int32, np.int64]:\n",
    "        shape = (shape,)\n",
    "    if method == 'repeat':\n",
    "        for i in range(len(shape)):\n",
    "            array = np.repeat(np.expand_dims(array, axis), shape[i], axis=axis)\n",
    "        return array\n",
    "    elif method == 'broadcast':\n",
    "        if axis == 0:\n",
    "            new_shape = shape + array.shape\n",
    "        elif axis == -1:\n",
    "            new_shape = array.shape + shape\n",
    "        for _ in range(len(shape)):\n",
    "            array = np.expand_dims(array, axis)\n",
    "        return np.broadcast_to(array, new_shape)\n",
    "    else:\n",
    "        raise ValueError('Invalid `method` parameter.')"
   ]
  },
  {
   "cell_type": "code",
   "execution_count": null,
   "id": "8392577c-845f-4202-8cae-430b17aabf36",
   "metadata": {},
   "outputs": [],
   "source": [
    "X1 = copy_into_new_dim(X1[:, :, 0], (new_shape[2],), axis=-1)\n",
    "X2 = copy_into_new_dim(X2[:, :, 0], (new_shape[2],), axis=-1)\n",
    "X3 = copy_into_new_dim(new_coords[2], (shape[0], shape[1],), axis=0)\n",
    "COORDS = [X1, X2, X3]\n",
    "\n",
    "print('New coordinate arrays:')\n",
    "for i in range(ndim):\n",
    "    print(f'X{i + 1}.shape = : {COORDS[i].shape}')"
   ]
  },
  {
   "cell_type": "markdown",
   "id": "475ce0d4-6eec-49d8-97a0-9a0a181750ca",
   "metadata": {},
   "source": [
    "Now the second step: perform a 2D interpolation on the $x_1$-$x_2$ distribution at each $\\tilde{x}_3$ slice."
   ]
  },
  {
   "cell_type": "code",
   "execution_count": null,
   "id": "7b5dab5a-5073-403d-abde-339871caa3bd",
   "metadata": {},
   "outputs": [],
   "source": [
    "start_time = time.time()\n",
    "\n",
    "_f = np.copy(f_new)\n",
    "f_new = np.zeros(new_shape)\n",
    "new_points = tuple([C.ravel() for C in np.meshgrid(*new_coords[:2], indexing='ij')])\n",
    "for k in range(new_shape[2]):\n",
    "    points = (X1[:, :, k].ravel(), X2[:, :, k].ravel())\n",
    "    values = _f[:, :, k].ravel()\n",
    "    new_values = interpolate.griddata(points, values, new_points, **grid_kws)\n",
    "    f_new[:, :, k] = new_values.reshape(new_shape[0], new_shape[1])\n",
    "f_new = normalize(f_new)    \n",
    "\n",
    "print(f'{(time.time() - start_time):2f} sec')"
   ]
  },
  {
   "cell_type": "markdown",
   "id": "8c1a7d2b-7141-41e8-9278-7730a9232e68",
   "metadata": {},
   "source": [
    "And we're done! The last step is unnecessary but will be needed for the 5D data set: reshape the grids once again."
   ]
  },
  {
   "cell_type": "code",
   "execution_count": null,
   "id": "592a4974-781f-4881-a8df-c0c99508fa44",
   "metadata": {},
   "outputs": [],
   "source": [
    "_X1, _X2 = np.meshgrid(new_coords[0], new_coords[1], indexing='ij')\n",
    "X1 = copy_into_new_dim(_X1, (new_shape[2],), axis=-1)\n",
    "X2 = copy_into_new_dim(_X2, (new_shape[2],), axis=-1)\n",
    "X3 = copy_into_new_dim(X3[0, 0, :], (new_shape[0], new_shape[1]), axis=0)\n",
    "COORDS = [X1, X2, X3]\n",
    "\n",
    "print('New coordinate arrays:')\n",
    "for i in range(ndim):\n",
    "    print(f'X{i + 1}.shape = : {COORDS[i].shape}')"
   ]
  },
  {
   "cell_type": "markdown",
   "id": "d0260a19-c62a-4cee-9ba3-feadf0c92a00",
   "metadata": {},
   "source": [
    "### Comparison "
   ]
  },
  {
   "cell_type": "markdown",
   "id": "b968daee-32aa-4cd3-b795-2a23c3328a8a",
   "metadata": {},
   "source": [
    "A good way to compare 3D distributions is to slice along one dimensions. We need to compare `f_new` (the 2D + 1D interpolation method), `f_new_3D` (the 3D interpolation method), and `f_true` (the function evaluated on the interpolation grid). In the following figure, the color map scale is the same for all frames. The 1D projections of the images are plotted as faint lines on the bottom and left side of each frame."
   ]
  },
  {
   "cell_type": "code",
   "execution_count": null,
   "id": "f8b4e631-3941-4384-b4ce-3e3edf956463",
   "metadata": {},
   "outputs": [],
   "source": [
    "f_true = func(*COORDS, tilt=tilt, cut=xmax)"
   ]
  },
  {
   "cell_type": "code",
   "execution_count": null,
   "id": "f0d04061-850e-4d67-99d1-12f523f8d818",
   "metadata": {},
   "outputs": [],
   "source": [
    "ncols = 7\n",
    "kk = np.linspace(0, new_shape[2] - 1, ncols + 2)[1:-1].astype(int)\n",
    "prof_kws = dict(lw=0.5, alpha=0.5, scale=0.1)\n",
    "\n",
    "fig, axes = pplt.subplots(ncols=ncols, nrows=3, figwidth=7.0, space=0.5)\n",
    "for row, array in enumerate([f_true, f_new_3d, f_new]):\n",
    "    vmin = np.min(array[:, :, kk])\n",
    "    vmax = np.max(array[:, :, kk])\n",
    "    for ax, k in zip(axes[row, :], kk):\n",
    "        idx = (slice(None), slice(None), k)\n",
    "        utils.plot_image(array[idx], x=new_coords[0], y=new_coords[1], ax=ax,\n",
    "                         profx=True, profy=True, prof_kws=prof_kws,\n",
    "                         vmin=vmin, vmax=vmax)\n",
    "        if row == 0:\n",
    "            ax.set_title(f'{labels[2]} = {new_coords[2][k]:.2f}', fontsize=8.5)\n",
    "axes.format(\n",
    "    xticks=[], yticks=[], \n",
    "    xlabel=labels[0], ylabel=labels[1],\n",
    "    leftlabels=['True', 'int. (3D)', 'int. (1D + 2D)'],\n",
    "    leftlabels_kw=dict(fontsize='medium'),\n",
    ")"
   ]
  },
  {
   "cell_type": "markdown",
   "id": "5fe75e17-c5db-45a5-9a83-5dd53681eb28",
   "metadata": {},
   "source": [
    "It looks like both methods gave the same answer. We can also look at the full 2D projections of the array. (It is very helpful to use `ipywidgets` to interactively slice through the data, but I haven't figured out how to do something like this on this blog, without a live kernel.) "
   ]
  },
  {
   "cell_type": "code",
   "execution_count": null,
   "id": "5502b11f-e3ae-4f4a-9cfa-b1dffee2c4bf",
   "metadata": {},
   "outputs": [],
   "source": [
    "for arr, title in zip([f_true, f_new_3d, f_new], \n",
    "                      ['True', 'Interpolated (3D)', 'Interpolated (1D + 2D)']):\n",
    "    axes = utils.corner(arr, coords=new_coords, diag_kind=None, labels=labels, \n",
    "                        prof=True, prof_kws=prof_kws,\n",
    "                        fig_kws=dict(figwidth=3.5))\n",
    "    axes.format(suptitle=title)\n",
    "    plt.show()"
   ]
  },
  {
   "cell_type": "markdown",
   "id": "d677d579-464b-4171-ba2a-cda466d1d2b1",
   "metadata": {},
   "source": [
    "## 5D testing"
   ]
  },
  {
   "cell_type": "markdown",
   "id": "94486c62-4ccc-456d-8e9d-f95120d196d5",
   "metadata": {},
   "source": [
    "In the 5D case, we have an extra interpolation to perform. Here again is the method:\n",
    "1. Interpolate $x_5$ for each $\\left\\{x_1, x_2, x_3, x_4\\right\\}$ to get $\\tilde{x}_5$, where the tilde represents that the coordinate is on a regular grid.\n",
    "2. Interpolate $x_2$-$x_3$ for each $\\left\\{x_3, x_4, \\tilde{x}_5\\right\\}$ to get $\\tilde{x}_5$ and $\\tilde{x}_5$.\n",
    "3. Interpolate $x_3$-$x_4$ for each $\\left\\{\\tilde{x}_1, \\tilde{x}_2, \\tilde{x}_5\\right\\}$ to get $\\tilde{x}_3$ and $\\tilde{x}_4$.\n",
    "\n",
    "The testing will proceed in the same way as the 3D case, but we will need to decrease the resolution. We also will not be able to test the direct 5D interpolation method due to the poor scaling of Delauney triangulation to higher dimensions. But we can still compare with the function evaluated on the interpolation grid."
   ]
  },
  {
   "cell_type": "code",
   "execution_count": null,
   "id": "4521788d-5972-4903-a389-4b4c5cd5fb4f",
   "metadata": {},
   "outputs": [],
   "source": [
    "ndim = 5  # number of dimensions\n",
    "n = 20  # grid points per dimension\n",
    "shape = tuple(ndim * [n])\n",
    "labels = [f'x{i + 1}' for i in range(ndim)]\n",
    "\n",
    "# Create \"normalized\" coordinate arrays\n",
    "coords_n = [np.linspace(-xmax, xmax, shape[i]) for i in range(ndim)]\n",
    "COORDS_n = np.meshgrid(*coords_n, indexing='ij')\n",
    "\n",
    "# Tilt the x1-x2 and x3-x4 grids.\n",
    "tilt = 0.5\n",
    "x1_n, x2_n, x3_n, x4_n, x5_n = coords_n\n",
    "X1_n, X2_n, X3_n, X4_n, X5_n = COORDS_n\n",
    "X1 = X1_n + tilt * X2_n\n",
    "X2 = X2_n\n",
    "X3 = X3_n - tilt * X4_n\n",
    "X4 = X4_n\n",
    "\n",
    "# Randomize the spacing of the x5 coordinates for each {x1, x2, x3, x3}.\n",
    "noise = 0.02\n",
    "X5 = np.zeros(shape)\n",
    "for i in range(shape[0]):\n",
    "    for j in range(shape[1]):\n",
    "        for k in range(shape[2]):\n",
    "            for l in range(shape[3]):\n",
    "                idx = (i, j, k, l, slice(None))\n",
    "                X5[idx] = X5_n[idx] * np.random.uniform(1.0 - noise, 1.0 + noise, shape[2])\n",
    "                X5[idx] = np.sort(X5[idx])\n",
    "COORDS = [X1, X2, X3, X4, X5]"
   ]
  },
  {
   "cell_type": "markdown",
   "id": "13714c57-7d60-4fbe-8bb4-8b3d4de5bad3",
   "metadata": {},
   "source": [
    "Define a 5D function."
   ]
  },
  {
   "cell_type": "code",
   "execution_count": null,
   "id": "eba61620-fd05-4a2b-be79-1a443cd9418c",
   "metadata": {},
   "outputs": [],
   "source": [
    "def func(X1, X2, X3, X4, X5, tilt=1.0, cut=None, sigma=1.0):\n",
    "    R = np.sqrt(X1**2 + X2**2 + X3**2 + X4**2 + X5**2)\n",
    "    A = np.abs(np.sin(2.0 * R))**2\n",
    "    f = A * np.exp(-0.5 * (R**2 - tilt*X1*X2 + tilt*X3*X4 + 0.2*X1*X5 + 2.0*X3*X5))\n",
    "    if cut is not None:\n",
    "        f[R > cut] = 0.0\n",
    "    f = ndimage.gaussian_filter(f, sigma=sigma)\n",
    "    f = f / np.sum(f)\n",
    "    return f\n",
    "\n",
    "f = func(*COORDS, tilt=tilt, cut=xmax)"
   ]
  },
  {
   "cell_type": "markdown",
   "id": "70a2f076-0ad5-4252-ab85-9a220cfedfcc",
   "metadata": {},
   "source": [
    "Define the interpolation grid."
   ]
  },
  {
   "cell_type": "code",
   "execution_count": null,
   "id": "7332576b-23e8-4bd6-9bc3-8e5eabe8a18d",
   "metadata": {},
   "outputs": [],
   "source": [
    "new_shape = tuple(np.multiply(shape, [1.5, 1.0, 1.5, 1.0, 1.1]).astype(int))\n",
    "new_coords = [np.linspace(COORDS[i].min(), COORDS[i].max(), new_shape[i]) \n",
    "              for i in range(5)]"
   ]
  },
  {
   "cell_type": "markdown",
   "id": "6d243287-cb7f-4b79-a974-20c1034df53a",
   "metadata": {},
   "source": [
    "Step 1: Interpolate over $x_5$ for each $\\left\\{x_2, x_3, x_4, x_5\\right\\}$ to get $\\tilde{x}_5$."
   ]
  },
  {
   "cell_type": "code",
   "execution_count": null,
   "id": "eed1ac95-ac68-4506-9711-1d28d604dc95",
   "metadata": {},
   "outputs": [],
   "source": [
    "_f = np.copy(f)\n",
    "f_new = np.zeros((shape[0], shape[1], shape[2], shape[3], new_shape[4]))\n",
    "new_points = new_coords[4]\n",
    "for i in trange(shape[0]):\n",
    "    for j in range(shape[1]):\n",
    "        for k in range(shape[2]):\n",
    "            for l in range(shape[3]):\n",
    "                points = COORDS[4][i, j, k, l, :]\n",
    "                values = _f[i, j, k, l, :]\n",
    "                f_new[i, j, k, l, :] = interpolate.griddata(\n",
    "                    points, \n",
    "                    values, \n",
    "                    new_points, \n",
    "                    fill_value=0.0, \n",
    "                    method='linear',\n",
    "                )"
   ]
  },
  {
   "cell_type": "markdown",
   "id": "fc54404a-2939-452f-8b81-2b809a543914",
   "metadata": {},
   "source": [
    "Make new coordinate arrays."
   ]
  },
  {
   "cell_type": "code",
   "execution_count": null,
   "id": "48cef8c0-72bf-465c-99bd-fcea8a568a0c",
   "metadata": {},
   "outputs": [],
   "source": [
    "X1 = copy_into_new_dim(X1[:, :, :, :, 0], (new_shape[4],), axis=-1)\n",
    "X2 = copy_into_new_dim(X2[:, :, :, :, 0], (new_shape[4],), axis=-1)\n",
    "X3 = copy_into_new_dim(X3[:, :, :, :, 0], (new_shape[4],), axis=-1)\n",
    "X4 = copy_into_new_dim(X4[:, :, :, :, 0], (new_shape[4],), axis=-1)\n",
    "X5 = copy_into_new_dim(new_coords[4], (shape[0], shape[1], shape[2], shape[3]), axis=0)\n",
    "COORDS = [X1, X2, X3, X4, X5]\n",
    "\n",
    "print('New coordinate arrays:')\n",
    "for i in range(ndim):\n",
    "    print(f'X{i + 1}.shape = : {COORDS[i].shape}')"
   ]
  },
  {
   "cell_type": "markdown",
   "id": "41dddfcd-ff1f-41da-b7c9-d3d880a20fd1",
   "metadata": {},
   "source": [
    "Step 2: Interpolate $x_1$-$x_2$ for each $\\left\\{x_3, x_4, \\tilde{x}_5\\right\\}$ to get $\\tilde{x}_1$ and $\\tilde{x}_2$."
   ]
  },
  {
   "cell_type": "code",
   "execution_count": null,
   "id": "b1652416-2ebb-4b08-940f-1d43b8f768b1",
   "metadata": {},
   "outputs": [],
   "source": [
    "_f = f_new.copy()\n",
    "f_new = np.zeros((new_shape[0], new_shape[1], shape[2], shape[3], new_shape[4]))\n",
    "new_points = tuple([C.ravel() for C in np.meshgrid(new_coords[0], new_coords[1], indexing='ij')])\n",
    "for k in trange(f.shape[2]):\n",
    "    for l in range(f.shape[3]):   \n",
    "        for m in range(f.shape[4]):\n",
    "            points = (\n",
    "                COORDS[0][:, :, k, l, m].ravel(),\n",
    "                COORDS[1][:, :, k, l, m].ravel(),\n",
    "            )\n",
    "            values = _f[:, :, k, l, m].ravel()\n",
    "            new_values = interpolate.griddata(\n",
    "                points,\n",
    "                values,\n",
    "                new_points,\n",
    "                fill_value=0.0,\n",
    "                method='linear',\n",
    "            )\n",
    "            f_new[:, :, k, l, m] = new_values.reshape((new_shape[0], new_shape[1]))"
   ]
  },
  {
   "cell_type": "markdown",
   "id": "86117885-2f73-4714-84a7-fcde15abc433",
   "metadata": {},
   "source": [
    "Make new coordinate arrays."
   ]
  },
  {
   "cell_type": "code",
   "execution_count": null,
   "id": "6757fc5b-56a6-4846-ba1c-3530bc262477",
   "metadata": {},
   "outputs": [],
   "source": [
    "_X1, _X2 = np.meshgrid(new_coords[0], new_coords[1], indexing='ij')\n",
    "X1 = copy_into_new_dim(_X1, (shape[2], shape[3], new_shape[4]), axis=-1)\n",
    "X2 = copy_into_new_dim(_X2, (shape[2], shape[3], new_shape[4]), axis=-1)\n",
    "X3 = copy_into_new_dim(X3[0, 0, :, :, :], (new_shape[0], new_shape[1]), axis=0)\n",
    "X4 = copy_into_new_dim(X4[0, 0, :, :, :], (new_shape[0], new_shape[1]), axis=0)\n",
    "X5 = copy_into_new_dim(X5[0, 0, :, :, :], (new_shape[0], new_shape[1]), axis=0)\n",
    "COORDS = [X1, X2, X3, X4, X5]\n",
    "\n",
    "print('New coordinate arrays:')\n",
    "for i in range(ndim):\n",
    "    print(f'X{i + 1}.shape = : {COORDS[i].shape}')"
   ]
  },
  {
   "cell_type": "markdown",
   "id": "ea7bac6a-58b4-487a-964d-e26ccdf39499",
   "metadata": {},
   "source": [
    "Step 3: Interpolate $x_3$-$x_4$ for each $\\left\\{\\tilde{x}_1, \\tilde{x}_2, \\tilde{x}_5\\right\\}$ to get $\\tilde{x}_3$ and $\\tilde{x}_4$."
   ]
  },
  {
   "cell_type": "code",
   "execution_count": null,
   "id": "02008757-6eef-43d0-879b-44b11367f251",
   "metadata": {},
   "outputs": [],
   "source": [
    "_f = f_new.copy()\n",
    "f_new = np.zeros(new_shape)\n",
    "new_points = tuple([G.ravel() for G in np.meshgrid(new_coords[2], new_coords[3], indexing='ij')])\n",
    "for i in trange(new_shape[0]):\n",
    "    for j in range(new_shape[1]):   \n",
    "        for m in range(new_shape[4]):\n",
    "            points = (\n",
    "                COORDS[2][i, j, :, :, m].ravel(),\n",
    "                COORDS[3][i, j, :, :, m].ravel(),\n",
    "            )\n",
    "            values = _f[i, j, :, :, m].ravel()\n",
    "            new_values = interpolate.griddata(\n",
    "                points,\n",
    "                values,\n",
    "                new_points,\n",
    "                fill_value=0.0,\n",
    "                method='linear',\n",
    "            )\n",
    "            f_new[i, j, :, :, m] = new_values.reshape((new_shape[2], new_shape[3]))"
   ]
  },
  {
   "cell_type": "markdown",
   "id": "ef19a54b-51a8-4850-8220-5e3367f5cfef",
   "metadata": {},
   "source": [
    "Now we compare with the true distribution. 5D distributions are more difficult to compare than 3D distributions. A starting point is to view the full 2D projections."
   ]
  },
  {
   "cell_type": "code",
   "execution_count": null,
   "id": "1c32517d-a27e-4993-8ab5-bf4c54ad44b5",
   "metadata": {},
   "outputs": [],
   "source": [
    "f_new = normalize(f_new)\n",
    "f_true = func(*np.meshgrid(*new_coords, indexing='ij'), cut=xmax, tilt=tilt)\n",
    "\n",
    "for arr, title in zip([f_true, f_new], ['True', 'Interpolated (1D + 2D + 2D)']):\n",
    "    axes = utils.corner(arr, coords=new_coords, diag_kind=None, labels=labels, \n",
    "                        prof=True, prof_kws=prof_kws, fig_kws=dict(figwidth=5.0))\n",
    "    axes.format(suptitle=title)\n",
    "    plt.show()\n",
    "plt.show()"
   ]
  },
  {
   "cell_type": "markdown",
   "id": "21a7a62a-f745-42bc-930a-791c8ccbb079",
   "metadata": {},
   "source": [
    "Looks good to me. There are many other ways to slice the data; here is one:"
   ]
  },
  {
   "cell_type": "code",
   "execution_count": null,
   "id": "ee96e18d-757d-42b6-af50-2b92a496058c",
   "metadata": {},
   "outputs": [],
   "source": [
    "ncols = 7\n",
    "i = new_shape[0] // 2 - 5\n",
    "j = new_shape[1] // 2 + 5\n",
    "kk = np.linspace(0, new_shape[4] - 1, ncols + 2)[1:-1].astype(int)\n",
    "prof_kws = dict(lw=0.5, alpha=0.5, scale=0.1)\n",
    "\n",
    "fig, axes = pplt.subplots(ncols=ncols, nrows=2, figwidth=7.0, space=0.5)\n",
    "for row, array in enumerate([f_true, f_new]):\n",
    "    vmin = np.min(array[i, j, ..., kk])\n",
    "    vmax = np.max(array[i, j, ..., kk])\n",
    "    for ax, k in zip(axes[row, :], kk):\n",
    "        idx = (i, j, slice(None), slice(None), k)\n",
    "        utils.plot_image(array[idx], x=new_coords[2], y=new_coords[3], ax=ax,\n",
    "                         profx=True, profy=True, prof_kws=prof_kws,\n",
    "                         vmin=vmin, vmax=vmax)\n",
    "        if row == 0:\n",
    "            ax.set_title(f'{labels[4]} = {new_coords[4][k]:.2f}', fontsize=8.5)\n",
    "axes.format(\n",
    "    xticks=[], yticks=[], \n",
    "    xlabel=labels[2], ylabel=labels[3],\n",
    "    leftlabels=['True', 'interp.'],\n",
    "    leftlabels_kw=dict(fontsize='medium'),\n",
    "    suptitle=f'Slice: ({labels[0]}, {labels[1]}) = ({new_coords[0][i]:.2f}, {new_coords[1][j]:.2f})'\n",
    ")"
   ]
  }
 ],
 "metadata": {
  "kernelspec": {
   "display_name": "Python 3",
   "language": "python",
   "name": "python3"
  },
  "language_info": {
   "codemirror_mode": {
    "name": "ipython",
    "version": 3
   },
   "file_extension": ".py",
   "mimetype": "text/x-python",
   "name": "python",
   "nbconvert_exporter": "python",
   "pygments_lexer": "ipython3",
   "version": "3.7.6"
  }
 },
 "nbformat": 4,
 "nbformat_minor": 5
}
